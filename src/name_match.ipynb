{
 "cells": [
  {
   "cell_type": "code",
   "execution_count": 1,
   "metadata": {},
   "outputs": [],
   "source": [
    "import platform\n",
    "from os import listdir\n",
    "from os.path import isfile, join\n",
    "from glob import glob\n",
    "from pathlib import Path\n",
    "import sys\n",
    "import os"
   ]
  },
  {
   "cell_type": "code",
   "execution_count": 37,
   "metadata": {},
   "outputs": [],
   "source": [
    "data_source1 = '/Users/suvodeepmajumder/Documents/AI4SE/bellwether_comminity/data/commit_guru'\n",
    "if platform.system() == 'Darwin' or platform.system() == 'Linux':\n",
    "    _dir = data_source1 + '/'\n",
    "else:\n",
    "    _dir = data_source1 + '\\\\'\n",
    "projects1 = [f for f in listdir(_dir) if isfile(join(_dir, f))]\n",
    "\n",
    "data_source2 = '/Users/suvodeepmajumder/Documents/AI4SE/git_miner/data'\n",
    "if platform.system() == 'Darwin' or platform.system() == 'Linux':\n",
    "    _dir = data_source2 + '/'\n",
    "else:\n",
    "    _dir = data_source2 + '\\\\'\n",
    "projects2 = [f for f in listdir(_dir) if isfile(join(_dir, f))]\n",
    "\n",
    "commit_list = []\n",
    "for project in projects2:\n",
    "    x = project.split('_commit')[0]\n",
    "    if x not in commit_list:\n",
    "        commit_list.append(x)\n",
    "commit_list = set(commit_list)\n",
    "\n",
    "guru_list = []\n",
    "for project in projects1:\n",
    "    x = project.split('.csv')[0]\n",
    "    if x not in guru_list:\n",
    "        guru_list.append(x)\n",
    "guru_list = set(guru_list)\n",
    "\n",
    "if (commit_list & guru_list): \n",
    "    common_list = commit_list & guru_list"
   ]
  },
  {
   "cell_type": "code",
   "execution_count": 38,
   "metadata": {},
   "outputs": [],
   "source": [
    "data_source2 = '/Users/suvodeepmajumder/Documents/AI4SE/git_miner/data'\n",
    "if platform.system() == 'Darwin' or platform.system() == 'Linux':\n",
    "    _dir = data_source2 + '/'\n",
    "else:\n",
    "    _dir = data_source2 + '\\\\'\n",
    "projects2 = [f for f in listdir(_dir) if isfile(join(_dir, f))]"
   ]
  },
  {
   "cell_type": "code",
   "execution_count": 39,
   "metadata": {},
   "outputs": [],
   "source": [
    "commit_list = []\n",
    "for project in projects2:\n",
    "    x = project.split('_commit')[0]\n",
    "    if x not in commit_list:\n",
    "        commit_list.append(x)\n",
    "commit_list = set(commit_list)"
   ]
  },
  {
   "cell_type": "code",
   "execution_count": 40,
   "metadata": {},
   "outputs": [],
   "source": [
    "guru_list = []\n",
    "for project in projects1:\n",
    "    x = project.split('.csv')[0]\n",
    "    if x not in guru_list:\n",
    "        guru_list.append(x)\n",
    "guru_list = set(guru_list)"
   ]
  },
  {
   "cell_type": "code",
   "execution_count": 41,
   "metadata": {},
   "outputs": [],
   "source": [
    "if (commit_list & guru_list): \n",
    "    common_list = commit_list & guru_list\n",
    "    d = commit_list - guru_list"
   ]
  },
  {
   "cell_type": "code",
   "execution_count": null,
   "metadata": {},
   "outputs": [],
   "source": [
    "projects1"
   ]
  },
  {
   "cell_type": "code",
   "execution_count": null,
   "metadata": {},
   "outputs": [],
   "source": []
  }
 ],
 "metadata": {
  "kernelspec": {
   "display_name": "Python 3",
   "language": "python",
   "name": "python3"
  },
  "language_info": {
   "codemirror_mode": {
    "name": "ipython",
    "version": 3
   },
   "file_extension": ".py",
   "mimetype": "text/x-python",
   "name": "python",
   "nbconvert_exporter": "python",
   "pygments_lexer": "ipython3",
   "version": "3.7.3"
  }
 },
 "nbformat": 4,
 "nbformat_minor": 2
}
