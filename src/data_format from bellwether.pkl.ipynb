{
 "cells": [
  {
   "cell_type": "code",
   "execution_count": 8,
   "metadata": {},
   "outputs": [],
   "source": [
    "import platform\n",
    "from os import listdir\n",
    "from os.path import isfile, join\n",
    "from glob import glob\n",
    "from pathlib import Path\n",
    "import sys\n",
    "import os\n",
    "import pandas as pd\n",
    "import numpy as np"
   ]
  },
  {
   "cell_type": "code",
   "execution_count": 27,
   "metadata": {},
   "outputs": [],
   "source": [
    "f1 = {}\n",
    "prec = {}\n",
    "recall = {}\n",
    "g = {}\n",
    "d2h = {}\n",
    "for s_project in df.keys():\n",
    "    if s_project not in f1.keys():\n",
    "        f1[s_project] = {}\n",
    "    if s_project not in prec.keys():\n",
    "        prec[s_project] = {}\n",
    "    if s_project not in recall.keys():\n",
    "        recall[s_project] = {}\n",
    "    if s_project not in g.keys():\n",
    "        g[s_project] = {}\n",
    "    if s_project not in d2h.keys():\n",
    "        d2h[s_project] = {}     \n",
    "    for d_project in df[s_project].keys():\n",
    "        try:\n",
    "            prec[s_project][d_project] = round(np.median(df[s_project][d_project]['precision']),2)\n",
    "            recall[s_project][d_project] = round(np.median(df[s_project][d_project]['recall']),2)\n",
    "            f1[s_project][d_project] = round(np.median(df[s_project][d_project]['f1']),2)\n",
    "            g[s_project][d_project] = round(np.median(df[s_project][d_project]['g-score']),2)\n",
    "            d2h[s_project][d_project] = round(np.median(df[s_project][d_project]['d2h']),2)\n",
    "        except:\n",
    "            prec[s_project][d_project] = 0.0\n",
    "            recall[s_project][d_project] = 0.0\n",
    "            f1[s_project][d_project] = 0.0\n",
    "            g[s_project][d_project] = 0.0\n",
    "            d2h[s_project][d_project] = 0.0\n",
    "            continue"
   ]
  },
  {
   "cell_type": "code",
   "execution_count": 33,
   "metadata": {},
   "outputs": [],
   "source": [
    "new_df = pd.DataFrame.from_dict(d2h, orient='index')\n",
    "new_df.to_csv('data/commit_guru_bellwether_10_d2h.csv')"
   ]
  },
  {
   "cell_type": "code",
   "execution_count": null,
   "metadata": {},
   "outputs": [],
   "source": []
  }
 ],
 "metadata": {
  "kernelspec": {
   "display_name": "Python 3",
   "language": "python",
   "name": "python3"
  },
  "language_info": {
   "codemirror_mode": {
    "name": "ipython",
    "version": 3
   },
   "file_extension": ".py",
   "mimetype": "text/x-python",
   "name": "python",
   "nbconvert_exporter": "python",
   "pygments_lexer": "ipython3",
   "version": "3.7.3"
  }
 },
 "nbformat": 4,
 "nbformat_minor": 2
}
