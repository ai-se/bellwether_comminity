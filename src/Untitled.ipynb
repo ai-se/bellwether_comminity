{
 "cells": [
  {
   "cell_type": "code",
   "execution_count": 1,
   "metadata": {},
   "outputs": [],
   "source": [
    "import birch\n",
    "import pandas as pd\n",
    "import project_feature\n",
    "import bellwether"
   ]
  },
  {
   "cell_type": "code",
   "execution_count": 2,
   "metadata": {},
   "outputs": [
    {
     "name": "stdout",
     "output_type": "stream",
     "text": [
      "datasets/grunt-cli.csv\n"
     ]
    }
   ],
   "source": [
    "#Getting feature Selctor \n",
    "fs = project_feature.features('datasets','cfs','BUGS')\n",
    "fs.get_projects()\n",
    "df = fs.get_project_features()"
   ]
  },
  {
   "cell_type": "code",
   "execution_count": 3,
   "metadata": {},
   "outputs": [],
   "source": [
    "def load_data(path,target):\n",
    "    df = pd.read_csv(path)\n",
    "    if path == 'data/jm1.csv':\n",
    "        df = df[~df.uniq_Op.str.contains(\"\\?\")]\n",
    "    y = df[target]\n",
    "    X = df.drop(labels = target, axis = 1)\n",
    "    X = X.apply(pd.to_numeric)\n",
    "    return X,y\n",
    "\n",
    "# Cluster Driver\n",
    "def cluster_driver(file,print_tree = True):\n",
    "    df = pd.read_csv(file)\n",
    "    X = df.drop(labels=['Project Name'],axis=1)\n",
    "    X = X.apply(pd.to_numeric)\n",
    "    cluster = birch.birch(branching_factor=10)\n",
    "    #X.set_index('Project Name',inplace=True)\n",
    "    cluster.fit(X)\n",
    "    cluster_tree,max_depth = cluster.get_cluster_tree()\n",
    "    #cluster_tree = cluster.model_adder(cluster_tree)\n",
    "    if print_tree:\n",
    "        cluster.show_clutser_tree()\n",
    "    return cluster,cluster_tree,max_depth"
   ]
  },
  {
   "cell_type": "code",
   "execution_count": 4,
   "metadata": {},
   "outputs": [
    {
     "name": "stdout",
     "output_type": "stream",
     "text": [
      "[cluster_id=0] N_children: 6 N_samples: 76\n",
      "> [cluster_id=1] N_children: 0 N_samples: 8\n",
      "> [cluster_id=2] N_children: 0 N_samples: 9\n",
      "> [cluster_id=3] N_children: 0 N_samples: 2\n",
      "> [cluster_id=4] N_children: 0 N_samples: 16\n",
      "> [cluster_id=5] N_children: 0 N_samples: 32\n",
      "> [cluster_id=6] N_children: 0 N_samples: 9\n"
     ]
    }
   ],
   "source": [
    "# getting the cluster tree\n",
    "file = 'data/project_features.csv'\n",
    "cluster,cluster_tree,max_depth = cluster_driver(file)"
   ]
  },
  {
   "cell_type": "code",
   "execution_count": 2,
   "metadata": {},
   "outputs": [],
   "source": [
    "bl = bellwether.bellwether('datasets','DT')"
   ]
  },
  {
   "cell_type": "code",
   "execution_count": 3,
   "metadata": {},
   "outputs": [
    {
     "name": "stdout",
     "output_type": "stream",
     "text": [
      "datasets/jsdom.csv datasets/grunt-cli.csv\n",
      "datasets/generator.csv datasets/grunt-cli.csv\n",
      "datasets/chai-as-promised.csv datasets/grunt-cli.csv\n",
      "datasets/grunt-contrib-watch.csv datasets/grunt-cli.csv\n",
      "datasets/chalk.csv datasets/grunt-cli.csv\n",
      "datasets/babel-loader.csv datasets/grunt-cli.csv\n",
      "datasets/grunt-contrib-jshint.csv datasets/grunt-cli.csv\n",
      "datasets/mocha.csv datasets/grunt-cli.csv\n",
      "datasets/node-semver.csv datasets/grunt-cli.csv\n",
      "datasets/gulp-rename.csv datasets/grunt-cli.csv\n",
      "datasets/browserify.csv datasets/grunt-cli.csv\n",
      "datasets/sinon.csv datasets/grunt-cli.csv\n",
      "datasets/grunt-contrib-uglify.csv datasets/grunt-cli.csv\n",
      "datasets/q.csv datasets/grunt-cli.csv\n",
      "datasets/body-parser.csv datasets/grunt-cli.csv\n",
      "datasets/should.csv datasets/grunt-cli.csv\n",
      "datasets/underscore.csv datasets/grunt-cli.csv\n",
      "datasets/gulp-plumber.csv datasets/grunt-cli.csv\n",
      "datasets/sinon-chai.csv datasets/grunt-cli.csv\n",
      "datasets/istanbul.csv datasets/grunt-cli.csv\n",
      "datasets/cheerio.csv datasets/grunt-cli.csv\n",
      "datasets/eslint-plugin-react.csv datasets/grunt-cli.csv\n",
      "datasets/babelify.csv datasets/grunt-cli.csv\n",
      "datasets/load-grunt-tasks.csv datasets/grunt-cli.csv\n",
      "datasets/gulp-sourcemaps.csv datasets/grunt-cli.csv\n",
      "datasets/commander.csv datasets/grunt-cli.csv\n",
      "datasets/del.csv datasets/grunt-cli.csv\n",
      "datasets/grunt.csv datasets/grunt-cli.csv\n",
      "datasets/gulp-uglify.csv datasets/grunt-cli.csv\n",
      "datasets/karma-chrome-launcher.csv datasets/grunt-cli.csv\n",
      "datasets/request.csv datasets/grunt-cli.csv\n",
      "datasets/grunt-cli.csv datasets/grunt-cli.csv\n",
      "datasets/eslint-plugin-import.csv datasets/grunt-cli.csv\n",
      "datasets/gulp-jshint.csv datasets/grunt-cli.csv\n",
      "datasets/bluebird.csv datasets/grunt-cli.csv\n",
      "datasets/run-sequence.csv datasets/grunt-cli.csv\n",
      "datasets/through2.csv datasets/grunt-cli.csv\n",
      "datasets/gulp.csv datasets/grunt-cli.csv\n",
      "datasets/minimist.csv datasets/grunt-cli.csv\n",
      "datasets/node-tap.csv datasets/grunt-cli.csv\n",
      "datasets/rimraf.csv datasets/grunt-cli.csv\n",
      "datasets/webpack-dev-server.csv datasets/grunt-cli.csv\n",
      "datasets/gulp-util.csv datasets/grunt-cli.csv\n",
      "datasets/express.csv datasets/grunt-cli.csv\n",
      "datasets/async.csv datasets/grunt-cli.csv\n",
      "datasets/ava.csv datasets/grunt-cli.csv\n",
      "datasets/gulp-concat.csv datasets/grunt-cli.csv\n",
      "datasets/node-glob.csv datasets/grunt-cli.csv\n",
      "datasets/jquery.csv datasets/grunt-cli.csv\n",
      "datasets/node-coveralls.csv datasets/grunt-cli.csv\n",
      "datasets/grunt-contrib-clean.csv datasets/grunt-cli.csv\n",
      "datasets/gulp-babel.csv datasets/grunt-cli.csv\n",
      "datasets/grunt-contrib-copy.csv datasets/grunt-cli.csv\n",
      "datasets/gulp-mocha.csv datasets/grunt-cli.csv\n",
      "datasets/coffeescript.csv datasets/grunt-cli.csv\n",
      "datasets/jshint.csv datasets/grunt-cli.csv\n",
      "datasets/debug.csv datasets/grunt-cli.csv\n",
      "datasets/node-fs-extra.csv datasets/grunt-cli.csv\n",
      "datasets/node-mkdirp.csv datasets/grunt-cli.csv\n",
      "datasets/karma-jasmine.csv datasets/grunt-cli.csv\n",
      "datasets/javascript.csv datasets/grunt-cli.csv\n",
      "datasets/tape.csv datasets/grunt-cli.csv\n",
      "datasets/UglifyJS2.csv datasets/grunt-cli.csv\n",
      "datasets/grunt-contrib-nodeunit.csv datasets/grunt-cli.csv\n",
      "datasets/colors.csv datasets/grunt-cli.csv\n",
      "datasets/supertest.csv datasets/grunt-cli.csv\n",
      "datasets/style-loader.csv datasets/grunt-cli.csv\n",
      "datasets/babel-eslint.csv datasets/grunt-cli.csv\n",
      "datasets/moment.csv datasets/grunt-cli.csv\n",
      "datasets/grunt-contrib-concat.csv datasets/grunt-cli.csv\n",
      "datasets/css-loader.csv datasets/grunt-cli.csv\n",
      "datasets/grunt-mocha-test.csv datasets/grunt-cli.csv\n",
      "datasets/karma-phantomjs-launcher.csv datasets/grunt-cli.csv\n",
      "datasets/standard.csv datasets/grunt-cli.csv\n",
      "datasets/gulp-eslint.csv datasets/grunt-cli.csv\n",
      "datasets/karma.csv datasets/grunt-cli.csv\n",
      "datasets/jshint-stylish.csv datasets/grunt-cli.csv\n"
     ]
    }
   ],
   "source": [
    "bl.run_bellwether()"
   ]
  },
  {
   "cell_type": "code",
   "execution_count": null,
   "metadata": {},
   "outputs": [],
   "source": []
  }
 ],
 "metadata": {
  "kernelspec": {
   "display_name": "Python 3",
   "language": "python",
   "name": "python3"
  },
  "language_info": {
   "codemirror_mode": {
    "name": "ipython",
    "version": 3
   },
   "file_extension": ".py",
   "mimetype": "text/x-python",
   "name": "python",
   "nbconvert_exporter": "python",
   "pygments_lexer": "ipython3",
   "version": "3.7.1"
  }
 },
 "nbformat": 4,
 "nbformat_minor": 2
}
