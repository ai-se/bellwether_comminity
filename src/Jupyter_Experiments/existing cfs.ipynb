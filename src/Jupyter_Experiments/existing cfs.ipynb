{
 "cells": [
  {
   "cell_type": "code",
   "execution_count": 54,
   "metadata": {},
   "outputs": [],
   "source": [
    "import pandas as pd\n",
    "import numpy as np\n",
    "import CFS\n",
    "\n",
    "from sklearn.metrics import classification_report\n",
    "from sklearn.linear_model import LogisticRegression\n",
    "from sklearn.model_selection import train_test_split\n",
    "\n",
    "import SMOTE"
   ]
  },
  {
   "cell_type": "code",
   "execution_count": 45,
   "metadata": {},
   "outputs": [],
   "source": [
    "df = pd.read_csv('/Users/suvodeepmajumder/Documents/AI4SE/bellwether_comminity/data/commit_guru/ant.csv')\n",
    "commit_df = pd.read_pickle('/Users/suvodeepmajumder/Documents/AI4SE/git_miner/data/ant_commit.pkl')"
   ]
  },
  {
   "cell_type": "code",
   "execution_count": 46,
   "metadata": {},
   "outputs": [],
   "source": [
    "df1 = commit_df[commit_df['buggy'] == 1]\n",
    "X1 = df1.commit_number\n",
    "X2 = df1.parent\n",
    "X = np.append(X1,X2)\n",
    "df = df[df['commit_hash'].isin(X)]\n",
    "df = df.drop(labels = ['commit_hash', 'author_name', 'author_date_unix_timestamp',\n",
    "       'author_email', 'author_date', 'commit_message','classification', 'linked', 'contains_bug', 'fixes',\n",
    "                      'fileschanged','glm_probability', 'rf_probability',\n",
    "       'repository_id', 'issue_id', 'issue_date', 'issue_type'],axis=1)\n",
    "df = df.dropna()\n",
    "df = df[['ns', 'nd', 'nf', 'entropy', 'la', 'ld', 'lt', 'ndev', 'age',\n",
    "       'nuc', 'exp', 'rexp', 'sexp','fix']]\n",
    "df = df.astype(np.float64)\n",
    "df.reset_index(drop=True,inplace=True)"
   ]
  },
  {
   "cell_type": "code",
   "execution_count": 47,
   "metadata": {},
   "outputs": [],
   "source": [
    "y = df.fix.values\n",
    "X = df.drop(labels = ['fix'],axis = 1)\n",
    "X = X.values"
   ]
  },
  {
   "cell_type": "code",
   "execution_count": 48,
   "metadata": {},
   "outputs": [],
   "source": [
    "z = CFS.cfs(X,y)"
   ]
  },
  {
   "cell_type": "code",
   "execution_count": 49,
   "metadata": {},
   "outputs": [],
   "source": [
    "cols = df.columns[[z]].tolist()\n",
    "\n",
    "cols.append('fix')"
   ]
  },
  {
   "cell_type": "code",
   "execution_count": 50,
   "metadata": {},
   "outputs": [],
   "source": [
    "df = df[cols]"
   ]
  },
  {
   "cell_type": "code",
   "execution_count": 56,
   "metadata": {},
   "outputs": [
    {
     "name": "stdout",
     "output_type": "stream",
     "text": [
      "(3201, 6)\n",
      "(3216, 6)\n",
      "              precision    recall  f1-score   support\n",
      "\n",
      "       False       0.51      0.96      0.67       781\n",
      "        True       0.71      0.10      0.18       796\n",
      "\n",
      "    accuracy                           0.53      1577\n",
      "   macro avg       0.61      0.53      0.42      1577\n",
      "weighted avg       0.61      0.53      0.42      1577\n",
      "\n"
     ]
    }
   ],
   "source": [
    "y = df.fix\n",
    "y=y.astype('bool')\n",
    "X = df.drop(labels=['fix'],axis=1)\n",
    "train_X,test_X,train_y,test_y = train_test_split(X, y, test_size=0.33, random_state=13)\n",
    "print(train_X.shape)\n",
    "df_new = train_X\n",
    "df_new['fix'] = train_y\n",
    "smt = SMOTE.smote(train_X)\n",
    "df = smt.run()\n",
    "df.columns = cols\n",
    "train_y = df.fix\n",
    "train_y=train_y.astype('bool')\n",
    "train_X = df.drop(labels=['fix'],axis=1)\n",
    "print(train_X.shape)\n",
    "clf = LogisticRegression(penalty='l1')\n",
    "clf.fit(train_X,train_y)\n",
    "predicted = clf.predict(test_X)\n",
    "print(classification_report(test_y, predicted))"
   ]
  },
  {
   "cell_type": "code",
   "execution_count": null,
   "metadata": {},
   "outputs": [],
   "source": []
  }
 ],
 "metadata": {
  "kernelspec": {
   "display_name": "Python 3",
   "language": "python",
   "name": "python3"
  },
  "language_info": {
   "codemirror_mode": {
    "name": "ipython",
    "version": 3
   },
   "file_extension": ".py",
   "mimetype": "text/x-python",
   "name": "python",
   "nbconvert_exporter": "python",
   "pygments_lexer": "ipython3",
   "version": "3.7.3"
  }
 },
 "nbformat": 4,
 "nbformat_minor": 2
}
