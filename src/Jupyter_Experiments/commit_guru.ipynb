{
 "cells": [
  {
   "cell_type": "code",
   "execution_count": 93,
   "metadata": {},
   "outputs": [],
   "source": [
    "import pandas as pd\n",
    "import numpy as np\n",
    "import math\n",
    "\n",
    "from sklearn.tree import DecisionTreeClassifier\n",
    "from sklearn.model_selection import train_test_split\n",
    "from sklearn.metrics import classification_report\n",
    "from sklearn.linear_model import LogisticRegression\n",
    "from sklearn.ensemble import RandomForestClassifier\n",
    "from sklearn.svm import SVC\n",
    "from sklearn import linear_model\n",
    "from sklearn import metrics\n",
    "from sklearn.naive_bayes import GaussianNB\n",
    "from sklearn.neighbors import KNeighborsClassifier\n",
    "from sklearn.gaussian_process import GaussianProcessClassifier\n",
    "from sklearn.gaussian_process.kernels import RBF\n",
    "\n",
    "\n",
    "from rpy2.robjects.packages import importr\n",
    "from rpy2.robjects.conversion import localconverter\n",
    "import rpy2.robjects as ro\n",
    "from rpy2.robjects import pandas2ri\n",
    "\n",
    "\n",
    "import matplotlib.pyplot as plt\n",
    "\n",
    "import SMOTE"
   ]
  },
  {
   "cell_type": "code",
   "execution_count": 98,
   "metadata": {},
   "outputs": [],
   "source": [
    "df = pd.read_csv('/Users/suvodeepmajumder/Documents/AI4SE/bellwether_comminity/data/commit_guru/ant.csv')\n",
    "df = df.drop(labels = ['commit_hash', 'author_name', 'author_date_unix_timestamp',\n",
    "       'author_email', 'author_date', 'commit_message','classification', 'linked', 'contains_bug', 'fixes',\n",
    "                      'fileschanged','glm_probability', 'rf_probability',\n",
    "       'repository_id', 'issue_id', 'issue_date', 'issue_type'],axis=1)\n",
    "df = df.dropna()\n",
    "df = df[['ns', 'nd', 'nf', 'entropy', 'la', 'ld', 'lt', 'ndev', 'age',\n",
    "       'nuc', 'exp', 'rexp', 'sexp','fix']]"
   ]
  },
  {
   "cell_type": "code",
   "execution_count": 99,
   "metadata": {},
   "outputs": [],
   "source": [
    "y = df.fix\n",
    "y=y.astype('bool')\n",
    "X = df.drop(labels=['fix'],axis=1)\n",
    "train_X,test_X,train_y,test_y = train_test_split(X, y, test_size=0.33, random_state=13)"
   ]
  },
  {
   "cell_type": "code",
   "execution_count": 100,
   "metadata": {},
   "outputs": [
    {
     "name": "stdout",
     "output_type": "stream",
     "text": [
      "(9560, 13)\n"
     ]
    },
    {
     "name": "stderr",
     "output_type": "stream",
     "text": [
      "/anaconda3/lib/python3.7/site-packages/ipykernel_launcher.py:3: SettingWithCopyWarning: \n",
      "A value is trying to be set on a copy of a slice from a DataFrame.\n",
      "Try using .loc[row_indexer,col_indexer] = value instead\n",
      "\n",
      "See the caveats in the documentation: http://pandas.pydata.org/pandas-docs/stable/indexing.html#indexing-view-versus-copy\n",
      "  This is separate from the ipykernel package so we can avoid doing imports until\n"
     ]
    },
    {
     "name": "stdout",
     "output_type": "stream",
     "text": [
      "(15258, 13)\n"
     ]
    }
   ],
   "source": [
    "print(train_X.shape)\n",
    "df_new = train_X\n",
    "df_new['fix'] = train_y\n",
    "smt = SMOTE.smote(train_X)\n",
    "df = smt.run()\n",
    "df.columns = ['ns', 'nd', 'nf', 'entropy', 'la', 'ld', 'lt', 'ndev', 'age',\n",
    "       'nuc', 'exp', 'rexp', 'sexp','fix']\n",
    "train_y = df.fix\n",
    "train_y=train_y.astype('bool')\n",
    "train_X = df.drop(labels=['fix'],axis=1)\n",
    "print(train_X.shape)"
   ]
  },
  {
   "cell_type": "code",
   "execution_count": 107,
   "metadata": {},
   "outputs": [
    {
     "name": "stdout",
     "output_type": "stream",
     "text": [
      "0.5161852455211665\n",
      "              precision    recall  f1-score   support\n",
      "\n",
      "       False       0.80      0.68      0.74      3751\n",
      "        True       0.22      0.35      0.27       958\n",
      "\n",
      "    accuracy                           0.61      4709\n",
      "   macro avg       0.51      0.52      0.50      4709\n",
      "weighted avg       0.69      0.61      0.64      4709\n",
      "\n",
      "[[ 1.98796741e-01  3.52930795e-02 -2.80566961e-03 -6.76670137e-02\n",
      "  -3.49689814e-06  1.24419172e-05  1.49586632e-04  1.30074742e-02\n",
      "   7.69981189e-04 -3.43648674e-02 -6.52441906e-05  8.56499800e-04\n",
      "   1.96736908e-04]]\n"
     ]
    },
    {
     "name": "stderr",
     "output_type": "stream",
     "text": [
      "/anaconda3/lib/python3.7/site-packages/sklearn/linear_model/logistic.py:432: FutureWarning: Default solver will be changed to 'lbfgs' in 0.22. Specify a solver to silence this warning.\n",
      "  FutureWarning)\n"
     ]
    }
   ],
   "source": [
    "clf = LogisticRegression(penalty='l1',class_weight = 'balanced')\n",
    "#clf = RandomForestClassifier(criterion = 'gini',n_estimators=100)\n",
    "#clf = SVC()\n",
    "#clf = linear_model.SGDClassifier(loss = 'modified_huber',max_iter=1000, tol=1e-3,penalty='l1')\n",
    "#clf = KNeighborsClassifier(n_neighbors=5,algorithm='kd_tree')\n",
    "#kernel = 1.0 * RBF(1.0)\n",
    "#clf = GaussianProcessClassifier(kernel=kernel,random_state=0)\n",
    "clf.fit(train_X,train_y)\n",
    "predicted = clf.predict(test_X)\n",
    "fpr, tpr, thresholds = metrics.roc_curve(test_y, predicted, pos_label=1)\n",
    "print(metrics.auc(fpr, tpr))\n",
    "print(classification_report(test_y, predicted))\n",
    "print(clf.coef_)"
   ]
  },
  {
   "cell_type": "code",
   "execution_count": 57,
   "metadata": {},
   "outputs": [
    {
     "name": "stderr",
     "output_type": "stream",
     "text": [
      "/anaconda3/lib/python3.7/site-packages/ipykernel_launcher.py:5: SettingWithCopyWarning: \n",
      "A value is trying to be set on a copy of a slice from a DataFrame.\n",
      "Try using .loc[row_indexer,col_indexer] = value instead\n",
      "\n",
      "See the caveats in the documentation: http://pandas.pydata.org/pandas-docs/stable/indexing.html#indexing-view-versus-copy\n",
      "  \"\"\"\n"
     ]
    }
   ],
   "source": [
    "# For using with r package\n",
    "train_df = train_X\n",
    "test_df = test_X\n",
    "train_df['fix'] = train_y.values\n",
    "test_df['fix'] = test_y.values\n",
    "\n",
    "with localconverter(ro.default_converter + pandas2ri.converter):\n",
    "    train_df_r = ro.conversion.py2rpy(train_df)\n",
    "    test_df_r = ro.conversion.py2rpy(test_df)"
   ]
  },
  {
   "cell_type": "code",
   "execution_count": 86,
   "metadata": {},
   "outputs": [],
   "source": [
    "stats = importr('stats', robject_translations={'format_perc': '_format_perc'})\n",
    "base = importr('base')\n",
    "sig_threshold = 0.05\n",
    "def _isMetricSignificant(formula_metrics, metric,data):\n",
    "    \"\"\"\n",
    "    Checks if adding a metric to the already significant metrics in formula_metrics in a GLM model is significant. If significant,\n",
    "    and doesn't cause any previous metric in formula_metrics to become non significant, we return true. Otherwise, false.\n",
    "    Note: The p-value is always given in the 4th column of the summary matrix!\n",
    "    \"\"\"\n",
    "    sig_column = 4\n",
    "\n",
    "    # Case 1: no existing metrics in the formula\n",
    "    if len(formula_metrics) == 0:\n",
    "        formula = \"fix~\" + metric\n",
    "        fit = stats.glm(formula, data=data, family=\"binomial\")\n",
    "        summary = base.summary(fit)\n",
    "      # Note - first row is the intercept information so we start at second row!\n",
    "\n",
    "        try:\n",
    "            metric_sig = summary.rx2('coefficients').rx(2,sig_column)[0] # Second row, 4th column of the summary matrix.\n",
    "            if metric_sig <= sig_threshold:\n",
    "                return True\n",
    "            else:\n",
    "                return False\n",
    "\n",
    "        except:\n",
    "            # If we have two metrics that are perfectly collinear it will not build the model with the metrics\n",
    "            # and we will get an exception when trying to find the significance of *all values*. Indeed, do not add\n",
    "            # this value to the model!\n",
    "            return False\n",
    "\n",
    "    # Case 2: existing metrics in the formula    \n",
    "    else:\n",
    "        num_metrics = len(formula_metrics)+2 # plus one for the new metric we are adding and one for intercept\n",
    "        formula = \"fix~\" + \"+\".join(formula_metrics) + \"+\" + metric\n",
    "        fit = stats.glm(formula, data=data, family=\"binomial\")\n",
    "        summary = base.summary(fit)\n",
    "\n",
    "      # If any metric is now not significant, than we should not have added this metric to the formula\n",
    "      # There are (intercept) + num_metrics rows in the matrix to check - starts at second row skipping intercept\n",
    "        try: \n",
    "            for row in range(2,num_metrics+1):\n",
    "                metric_sig = summary.rx2('coefficients').rx(row,sig_column)[0]\n",
    "                if metric_sig > sig_threshold:\n",
    "                    return False\n",
    "            return True # old metrics added to model ARE significant still as well as the new one being tested\n",
    "\n",
    "        except:\n",
    "            # If we have two metrics that are perfectly collinear it will not build the model with the metrics\n",
    "            # and we will get an exception when trying to find the significance of *all values*. Indeed, do not add\n",
    "            # this value to the model!\n",
    "            return False\n",
    "\n",
    "        \n",
    "def _getInterceptValue(coefs, data):\n",
    "    \"\"\"\n",
    "    Return the Intercept value of a GLM model and the p-value\n",
    "    Assumes that model can be built!\n",
    "    \"\"\"\n",
    "    formula = \"fix~\" + \"+\".join(coefs)\n",
    "    print(formula)\n",
    "    fit = stats.glm(formula, data=data, family=\"binomial\")\n",
    "    summary = base.summary(fit)\n",
    "    return summary.rx2('coefficients').rx(1)[0], summary.rx2('coefficients').rx(1,4)[0]\n",
    "\n",
    "def _getCoefficients(formula_coefs,data):\n",
    "    \"\"\"\n",
    "    Builds a GLM model with a formula based on the passed in coefficients and retuns a dictionary containing each\n",
    "    coefficient with its value.\n",
    "    \"\"\"\n",
    "    coef_dict = {} # a dict containing glm coefficients {name -> value}\n",
    "    formula = \"fix~\" + \"+\".join(formula_coefs)\n",
    "    fit = stats.glm(formula, data=data, family=\"binomial\")\n",
    "\n",
    "    for coef in formula_coefs:\n",
    "        coef_dict[coef] = fit.rx2('coefficients').rx2(coef)[0]\n",
    "\n",
    "    return coef_dict"
   ]
  },
  {
   "cell_type": "code",
   "execution_count": 87,
   "metadata": {},
   "outputs": [],
   "source": [
    "metrics_list = [\"la\",\"ld\",\"lt\",\"ns\",\"nd\",\"nf\",\"ndev\",\"age\",\"nuc\",\"exp\",\"rexp\",\"sexp\",\"entropy\"]\n",
    "formula_metrics = []\n",
    "for metric in metrics_list:\n",
    "    if _isMetricSignificant(formula_metrics, metric,train_df_r):\n",
    "        formula_metrics.append(metric)"
   ]
  },
  {
   "cell_type": "code",
   "execution_count": 88,
   "metadata": {},
   "outputs": [
    {
     "name": "stdout",
     "output_type": "stream",
     "text": [
      "fix~lt+ns+nf+ndev+age+exp+rexp+sexp\n"
     ]
    }
   ],
   "source": [
    "intercept_value, intercept_pvalue = _getInterceptValue(formula_metrics,train_df_r)\n",
    "coefs = _getCoefficients(formula_metrics,train_df_r)"
   ]
  },
  {
   "cell_type": "code",
   "execution_count": 89,
   "metadata": {},
   "outputs": [],
   "source": [
    "predicted = []\n",
    "risks = []\n",
    "predicted_t = []\n",
    "predicted_f = []\n",
    "for commit in test_X.itertuples():\n",
    "    coefs_sum = 0\n",
    "    for coef_name in coefs:\n",
    "        coefs_sum += (coefs[coef_name] * getattr(commit, coef_name))\n",
    "    try:\n",
    "        riskyness = 1/(1+ math.exp(-intercept_value-coefs_sum))\n",
    "    except:\n",
    "        riskyness = -1\n",
    "    if riskyness >= 0.5:\n",
    "        result = True\n",
    "    else:\n",
    "        result = False\n",
    "    predicted.append(result)\n",
    "    risks.append(riskyness)\n",
    "y_train = test_y.values\n",
    "for i in range(len(y_train)):\n",
    "    if y_train[i]:\n",
    "        predicted_t.append(risks[i])\n",
    "    else:\n",
    "        predicted_f.append(risks[i])"
   ]
  },
  {
   "cell_type": "code",
   "execution_count": 90,
   "metadata": {},
   "outputs": [
    {
     "name": "stdout",
     "output_type": "stream",
     "text": [
      "              precision    recall  f1-score   support\n",
      "\n",
      "       False       0.80      0.68      0.74      3751\n",
      "        True       0.22      0.35      0.27       958\n",
      "\n",
      "    accuracy                           0.61      4709\n",
      "   macro avg       0.51      0.52      0.50      4709\n",
      "weighted avg       0.69      0.61      0.64      4709\n",
      "\n"
     ]
    }
   ],
   "source": [
    "print(classification_report(test_y, predicted))"
   ]
  },
  {
   "cell_type": "code",
   "execution_count": 91,
   "metadata": {},
   "outputs": [
    {
     "data": {
      "text/plain": [
       "(array([1.000e+00, 0.000e+00, 4.000e+00, 8.900e+01, 1.806e+03, 1.248e+03,\n",
       "        4.110e+02, 1.620e+02, 2.400e+01, 6.000e+00]),\n",
       " array([0.0439992 , 0.12906852, 0.21413784, 0.29920716, 0.38427648,\n",
       "        0.4693458 , 0.55441512, 0.63948444, 0.72455377, 0.80962309,\n",
       "        0.89469241]),\n",
       " <a list of 10 Patch objects>)"
      ]
     },
     "execution_count": 91,
     "metadata": {},
     "output_type": "execute_result"
    },
    {
     "data": {
      "image/png": "[encoded data removed]",
      "text/plain": [
       "<Figure size 432x288 with 1 Axes>"
      ]
     },
     "metadata": {
      "needs_background": "light"
     },
     "output_type": "display_data"
    }
   ],
   "source": [
    "plt.hist(predicted_f)"
   ]
  },
  {
   "cell_type": "code",
   "execution_count": 92,
   "metadata": {},
   "outputs": [
    {
     "data": {
      "text/plain": [
       "(array([ 25., 357., 275., 137.,  81.,  51.,  25.,   4.,   1.,   2.]),\n",
       " array([0.3364512 , 0.39612191, 0.45579261, 0.51546332, 0.57513402,\n",
       "        0.63480472, 0.69447543, 0.75414613, 0.81381684, 0.87348754,\n",
       "        0.93315825]),\n",
       " <a list of 10 Patch objects>)"
      ]
     },
     "execution_count": 92,
     "metadata": {},
     "output_type": "execute_result"
    },
    {
     "data": {
      "image/png": "[encoded data removed]",
      "text/plain": [
       "<Figure size 432x288 with 1 Axes>"
      ]
     },
     "metadata": {
      "needs_background": "light"
     },
     "output_type": "display_data"
    }
   ],
   "source": [
    "plt.hist(predicted_t)"
   ]
  },
  {
   "cell_type": "code",
   "execution_count": null,
   "metadata": {},
   "outputs": [],
   "source": []
  },
  {
   "cell_type": "code",
   "execution_count": null,
   "metadata": {},
   "outputs": [],
   "source": []
  },
  {
   "cell_type": "code",
   "execution_count": null,
   "metadata": {},
   "outputs": [],
   "source": []
  }
 ],
 "metadata": {
  "kernelspec": {
   "display_name": "Python 3",
   "language": "python",
   "name": "python3"
  },
  "language_info": {
   "codemirror_mode": {
    "name": "ipython",
    "version": 3
   },
   "file_extension": ".py",
   "mimetype": "text/x-python",
   "name": "python",
   "nbconvert_exporter": "python",
   "pygments_lexer": "ipython3",
   "version": "3.7.3"
  }
 },
 "nbformat": 4,
 "nbformat_minor": 2
}
