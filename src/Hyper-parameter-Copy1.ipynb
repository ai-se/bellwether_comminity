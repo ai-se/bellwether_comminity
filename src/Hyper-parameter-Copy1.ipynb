{
 "cells": [
  {
   "cell_type": "code",
   "execution_count": 1,
   "metadata": {},
   "outputs": [],
   "source": [
    "import pandas as pd\n",
    "import numpy as np\n",
    "import math\n",
    "\n",
    "from sklearn.model_selection import train_test_split\n",
    "from sklearn.metrics import classification_report\n",
    "from sklearn.linear_model import LogisticRegression\n",
    "from sklearn import metrics\n",
    "from sklearn.naive_bayes import GaussianNB\n",
    "from sklearn.metrics import confusion_matrix\n",
    "from sklearn.model_selection import StratifiedKFold\n",
    "\n",
    "import platform\n",
    "from os import listdir\n",
    "from os.path import isfile, join\n",
    "from glob import glob\n",
    "from pathlib import Path\n",
    "import sys\n",
    "import os\n",
    "\n",
    "\n",
    "\n",
    "import matplotlib.pyplot as plt\n",
    "\n",
    "import SMOTE\n",
    "import feature_selector\n",
    "import DE\n",
    "import CFS\n",
    "\n",
    "import metrices\n",
    "import measures\n",
    "\n",
    "import sys\n",
    "import traceback\n",
    "import warnings\n",
    "warnings.filterwarnings(\"ignore\")"
   ]
  },
  {
   "cell_type": "code",
   "execution_count": null,
   "metadata": {},
   "outputs": [],
   "source": []
  },
  {
   "cell_type": "code",
   "execution_count": 2,
   "metadata": {},
   "outputs": [],
   "source": [
    "def prepare_data(path):\n",
    "    df = pd.read_csv(path)\n",
    "    df = df.dropna()\n",
    "    df = df.astype(np.float64)\n",
    "    return df\n",
    "\n",
    "def get_features(df):\n",
    "    fs = feature_selector.featureSelector()\n",
    "    df,_feature_nums,features = fs.cfs_bfs(df)\n",
    "    return df,features\n",
    "\n",
    "def apply_cfs(df):\n",
    "    y = df.BUGS.values\n",
    "    X = df.drop(labels = ['BUGS'],axis = 1)\n",
    "    X = X.values\n",
    "    selected_cols = CFS.cfs(X,y)\n",
    "    cols = df.columns[[selected_cols]].tolist()\n",
    "    cols.append('BUGS')\n",
    "    return df[cols],cols\n",
    "    \n",
    "def apply_smote(df):\n",
    "    cols = df.columns\n",
    "    smt = SMOTE.smote(df)\n",
    "    df = smt.run()\n",
    "    df.columns = cols\n",
    "    return df\n",
    "\n",
    "def tune_learner(learner, train_X, train_Y, tune_X, tune_Y, goal,target_class=None):\n",
    "    if not target_class:\n",
    "        target_class = goal\n",
    "    clf = learner(train_X, train_Y, tune_X, tune_Y, goal)\n",
    "    tuner = DE.DE_Tune_ML(clf, clf.get_param(), goal, target_class)\n",
    "    return tuner.Tune()"
   ]
  },
  {
   "cell_type": "code",
   "execution_count": 3,
   "metadata": {},
   "outputs": [],
   "source": [
    "class DE_Learners(object):\n",
    "    def __init__(self, clf, train_X, train_Y, test_X, test_Y, goal):\n",
    "        \"\"\"\n",
    "\n",
    "        :param clf: classifier, SVM, etc...\n",
    "        :param train_X: training data, independent variables.\n",
    "        :param train_Y: training labels, dependent variables.\n",
    "        :param predict_X: testing data, independent variables.\n",
    "        :param predict_Y: testingd labels, dependent variables.\n",
    "        :param goal: the objective of your tuning, F, recision,....\n",
    "        \"\"\"\n",
    "        self.train_X = train_X\n",
    "        self.train_Y = train_Y\n",
    "        self.test_X = test_X\n",
    "        self.test_Y = test_Y\n",
    "        self.goal = goal\n",
    "        self.param_distribution = self.get_param()\n",
    "        self.learner = clf\n",
    "        self.confusion = None\n",
    "        self.params = None\n",
    "\n",
    "    def learn(self,F, **kwargs):\n",
    "        \"\"\"\n",
    "        :param F: a dict, holds all scores, can be used during debugging\n",
    "        :param kwargs: a dict, all the parameters need to set after tuning.\n",
    "        :return: F, scores.\n",
    "        \"\"\"\n",
    "        self.scores = {self.goal: [0.0]}\n",
    "        try:    \n",
    "            self.learner.set_params(**kwargs)\n",
    "            predict_result = []\n",
    "            clf = self.learner.fit(self.train_X, self.train_Y)\n",
    "            predict_result = clf.predict(self.test_X)\n",
    "            self.abcd = metrices.measures(self.test_Y,predict_result)\n",
    "            self.scores = self._Abcd(self.abcd,F)\n",
    "            self.confusion = metrics.classification_report(self.test_Y.values.tolist(), predict_result, digits=2)\n",
    "            self.params = kwargs\n",
    "        except Exception as e:\n",
    "            a = 10\n",
    "        return self.scores\n",
    "    \n",
    "    def _Abcd(self,abcd , F):\n",
    "        \"\"\"\n",
    "\n",
    "        :param predicted: predicted results(labels)\n",
    "        :param actual: actual results(labels)\n",
    "        :param F: previously got scores\n",
    "        :return: updated scores.\n",
    "        \"\"\"\n",
    "        if 'g-score' in self.goal:\n",
    "            F['g-score'] = [abcd.get_g_score()]\n",
    "            return F\n",
    "        elif 'precision' in self.goal:\n",
    "            F['precision'] = [abcd.get_precision()]\n",
    "            return F\n",
    "        elif 'f1' in self.goal:\n",
    "            F['f1'] = [abcd.calculate_f1_score()]\n",
    "            return F\n",
    "        elif 'd2h' in self.goal:\n",
    "            F['d2h'] = [abcd.calculate_d2h()]\n",
    "            return F\n",
    "\n",
    "    def predict(self,test_X):\n",
    "        return self.learner.predict(test_X)"
   ]
  },
  {
   "cell_type": "code",
   "execution_count": 4,
   "metadata": {},
   "outputs": [],
   "source": [
    "class SK_LR(DE_Learners):\n",
    "    def __init__(self, train_x, train_y, predict_x, predict_y, goal):\n",
    "        clf = LogisticRegression()\n",
    "        super(SK_LR, self).__init__(clf, train_x, train_y, predict_x, predict_y,goal)\n",
    "\n",
    "    def get_param(self):\n",
    "        tunelst = {\"penalty\": ['l1', 'l2','elasticnet',None],\n",
    "                   \"multi_class\": ['ovr', 'multinomial','auto'],\n",
    "                   \"C\": [1.0,200.0],\n",
    "                   \"dual\": [True, False],\n",
    "                   \"fit_intercept\": [True, False],\n",
    "                   \"intercept_scaling\": [1.0,100.0],\n",
    "                   \"class_weight\": [\"balanced\", None],\n",
    "                   \"solver\": ['newton-cg','lbfgs','liblinear','sag', 'saga'],\n",
    "                   \"warm_start\": [True, False],\n",
    "                   \"max_iter\": [100,600]}\n",
    "        return tunelst"
   ]
  },
  {
   "cell_type": "code",
   "execution_count": null,
   "metadata": {},
   "outputs": [],
   "source": []
  },
  {
   "cell_type": "code",
   "execution_count": null,
   "metadata": {},
   "outputs": [],
   "source": []
  },
  {
   "cell_type": "code",
   "execution_count": 16,
   "metadata": {},
   "outputs": [
    {
     "name": "stdout",
     "output_type": "stream",
     "text": [
      "Index(['aggregate_cyclomatic', 'aggregate_cyclomaticDensity',\n",
      "       'aggregate_halstead_bugs', 'aggregate_halstead_difficulty',\n",
      "       'aggregate_halstead_effort', 'aggregate_halstead_length',\n",
      "       'aggregate_halstead_operands_distinct',\n",
      "       'aggregate_halstead_operands_total',\n",
      "       'aggregate_halstead_operators_distinct',\n",
      "       'aggregate_halstead_operators_total',\n",
      "       ...\n",
      "       'W140', 'W141', 'W142', 'W143', 'W144', 'W145', 'W146', 'W147', 'W148',\n",
      "       'BUGS'],\n",
      "      dtype='object', length=251)\n",
      "newbestscore {'f1': 0.7584415584415585}:\n",
      "bestconf {'penalty': 'l2', 'multi_class': 'auto', 'C': 131.85, 'dual': False, 'fit_intercept': True, 'intercept_scaling': 50.48, 'class_weight': 'balanced', 'solver': 'newton-cg', 'warm_start': False, 'max_iter': 151} :\n",
      "newbestscore {'f1': 0.8181818181818182}:\n",
      "bestconf {'penalty': 'l2', 'multi_class': 'ovr', 'C': 177.969, 'dual': False, 'fit_intercept': True, 'intercept_scaling': 20.144, 'class_weight': 'balanced', 'solver': 'saga', 'warm_start': True, 'max_iter': 143} :\n",
      "newbestscore {'f1': 0.8371212121212122}:\n",
      "bestconf {'penalty': 'l1', 'multi_class': 'multinomial', 'C': 144.988, 'dual': False, 'fit_intercept': True, 'intercept_scaling': 82.373, 'class_weight': 'balanced', 'solver': 'saga', 'warm_start': True, 'max_iter': 131} :\n",
      "TUNING DONE ! {'penalty': 'l1', 'multi_class': 'multinomial', 'C': 144.988, 'dual': False, 'fit_intercept': True, 'intercept_scaling': 82.373, 'class_weight': 'balanced', 'solver': 'saga', 'warm_start': True, 'max_iter': 131} {'f1': 0.8371212121212122}\n",
      "0.6170940170940169\n",
      "Index(['aggregate_cyclomatic', 'aggregate_cyclomaticDensity',\n",
      "       'aggregate_halstead_bugs', 'aggregate_halstead_difficulty',\n",
      "       'aggregate_halstead_effort', 'aggregate_halstead_length',\n",
      "       'aggregate_halstead_operands_distinct',\n",
      "       'aggregate_halstead_operands_total',\n",
      "       'aggregate_halstead_operators_distinct',\n",
      "       'aggregate_halstead_operators_total',\n",
      "       ...\n",
      "       'W140', 'W141', 'W142', 'W143', 'W144', 'W145', 'W146', 'W147', 'W148',\n",
      "       'BUGS'],\n",
      "      dtype='object', length=251)\n",
      "newbestscore {'f1': 0.8181818181818182}:\n",
      "bestconf {'penalty': 'l2', 'multi_class': 'ovr', 'C': 1.0, 'dual': True, 'fit_intercept': True, 'intercept_scaling': 48.322, 'class_weight': None, 'solver': 'liblinear', 'warm_start': True, 'max_iter': 303} :\n",
      "TUNING DONE ! {'penalty': 'l2', 'multi_class': 'ovr', 'C': 1.0, 'dual': True, 'fit_intercept': True, 'intercept_scaling': 48.322, 'class_weight': None, 'solver': 'liblinear', 'warm_start': True, 'max_iter': 303} {'f1': 0.8181818181818182}\n",
      "0.49182692307692305\n",
      "Index(['aggregate_cyclomatic', 'aggregate_cyclomaticDensity',\n",
      "       'aggregate_halstead_bugs', 'aggregate_halstead_difficulty',\n",
      "       'aggregate_halstead_effort', 'aggregate_halstead_length',\n",
      "       'aggregate_halstead_operands_distinct',\n",
      "       'aggregate_halstead_operands_total',\n",
      "       'aggregate_halstead_operators_distinct',\n",
      "       'aggregate_halstead_operators_total',\n",
      "       ...\n",
      "       'W140', 'W141', 'W142', 'W143', 'W144', 'W145', 'W146', 'W147', 'W148',\n",
      "       'BUGS'],\n",
      "      dtype='object', length=251)\n",
      "newbestscore {'f1': 0.746524064171123}:\n",
      "bestconf {'penalty': 'l2', 'multi_class': 'ovr', 'C': 1.0, 'dual': True, 'fit_intercept': True, 'intercept_scaling': 1.0, 'class_weight': None, 'solver': 'liblinear', 'warm_start': True, 'max_iter': 519} :\n",
      "newbestscore {'f1': 0.8181818181818182}:\n",
      "bestconf {'penalty': 'l2', 'multi_class': 'ovr', 'C': 31.625, 'dual': False, 'fit_intercept': False, 'intercept_scaling': 94.98, 'class_weight': 'balanced', 'solver': 'lbfgs', 'warm_start': True, 'max_iter': 298} :\n",
      "TUNING DONE ! {'penalty': 'l2', 'multi_class': 'ovr', 'C': 31.625, 'dual': False, 'fit_intercept': False, 'intercept_scaling': 94.98, 'class_weight': 'balanced', 'solver': 'lbfgs', 'warm_start': True, 'max_iter': 298} {'f1': 0.8181818181818182}\n",
      "0.6170940170940169\n",
      "Index(['aggregate_cyclomatic', 'aggregate_cyclomaticDensity',\n",
      "       'aggregate_halstead_bugs', 'aggregate_halstead_difficulty',\n",
      "       'aggregate_halstead_effort', 'aggregate_halstead_length',\n",
      "       'aggregate_halstead_operands_distinct',\n",
      "       'aggregate_halstead_operands_total',\n",
      "       'aggregate_halstead_operators_distinct',\n",
      "       'aggregate_halstead_operators_total',\n",
      "       ...\n",
      "       'W140', 'W141', 'W142', 'W143', 'W144', 'W145', 'W146', 'W147', 'W148',\n",
      "       'BUGS'],\n",
      "      dtype='object', length=251)\n",
      "newbestscore {'f1': 1.0}:\n",
      "bestconf {'penalty': 'l2', 'multi_class': 'ovr', 'C': 128.03, 'dual': False, 'fit_intercept': False, 'intercept_scaling': 91.043, 'class_weight': None, 'solver': 'saga', 'warm_start': True, 'max_iter': 100} :\n",
      "TUNING DONE ! {'penalty': 'l2', 'multi_class': 'ovr', 'C': 128.03, 'dual': False, 'fit_intercept': False, 'intercept_scaling': 91.043, 'class_weight': None, 'solver': 'saga', 'warm_start': True, 'max_iter': 100} {'f1': 1.0}\n",
      "0.6170940170940169\n",
      "Index(['aggregate_cyclomatic', 'aggregate_cyclomaticDensity',\n",
      "       'aggregate_halstead_bugs', 'aggregate_halstead_difficulty',\n",
      "       'aggregate_halstead_effort', 'aggregate_halstead_length',\n",
      "       'aggregate_halstead_operands_distinct',\n",
      "       'aggregate_halstead_operands_total',\n",
      "       'aggregate_halstead_operators_distinct',\n",
      "       'aggregate_halstead_operators_total',\n",
      "       ...\n",
      "       'W140', 'W141', 'W142', 'W143', 'W144', 'W145', 'W146', 'W147', 'W148',\n",
      "       'BUGS'],\n",
      "      dtype='object', length=251)\n",
      "newbestscore {'f1': 0.8375}:\n",
      "bestconf {'penalty': 'l2', 'multi_class': 'multinomial', 'C': 30.42, 'dual': False, 'fit_intercept': False, 'intercept_scaling': 56.74, 'class_weight': None, 'solver': 'saga', 'warm_start': True, 'max_iter': 600} :\n",
      "newbestscore {'f1': 0.9137254901960784}:\n",
      "bestconf {'penalty': 'l2', 'multi_class': 'auto', 'C': 182.813, 'dual': True, 'fit_intercept': True, 'intercept_scaling': 100.0, 'class_weight': 'balanced', 'solver': 'liblinear', 'warm_start': False, 'max_iter': 462} :\n",
      "TUNING DONE ! {'penalty': 'l2', 'multi_class': 'auto', 'C': 182.813, 'dual': True, 'fit_intercept': True, 'intercept_scaling': 100.0, 'class_weight': 'balanced', 'solver': 'liblinear', 'warm_start': False, 'max_iter': 462} {'f1': 0.9137254901960784}\n",
      "0.6181462748626928\n",
      "Index(['aggregate_cyclomatic', 'aggregate_cyclomaticDensity',\n",
      "       'aggregate_halstead_bugs', 'aggregate_halstead_difficulty',\n",
      "       'aggregate_halstead_effort', 'aggregate_halstead_length',\n",
      "       'aggregate_halstead_operands_distinct',\n",
      "       'aggregate_halstead_operands_total',\n",
      "       'aggregate_halstead_operators_distinct',\n",
      "       'aggregate_halstead_operators_total',\n",
      "       ...\n",
      "       'W140', 'W141', 'W142', 'W143', 'W144', 'W145', 'W146', 'W147', 'W148',\n",
      "       'BUGS'],\n",
      "      dtype='object', length=251)\n",
      "TUNING DONE ! {'penalty': 'l2', 'multi_class': 'auto', 'C': 150.212, 'dual': False, 'fit_intercept': True, 'intercept_scaling': 9.356, 'class_weight': 'balanced', 'solver': 'lbfgs', 'warm_start': False, 'max_iter': 470} {'f1': 0.8526315789473685}\n",
      "0.6170940170940169\n",
      "Index(['aggregate_cyclomatic', 'aggregate_cyclomaticDensity',\n",
      "       'aggregate_halstead_bugs', 'aggregate_halstead_difficulty',\n",
      "       'aggregate_halstead_effort', 'aggregate_halstead_length',\n",
      "       'aggregate_halstead_operands_distinct',\n",
      "       'aggregate_halstead_operands_total',\n",
      "       'aggregate_halstead_operators_distinct',\n",
      "       'aggregate_halstead_operators_total',\n",
      "       ...\n",
      "       'W140', 'W141', 'W142', 'W143', 'W144', 'W145', 'W146', 'W147', 'W148',\n",
      "       'BUGS'],\n",
      "      dtype='object', length=251)\n",
      "newbestscore {'f1': 0.9137254901960784}:\n",
      "bestconf {'penalty': 'l2', 'multi_class': 'multinomial', 'C': 64.05, 'dual': False, 'fit_intercept': True, 'intercept_scaling': 1.0, 'class_weight': None, 'solver': 'newton-cg', 'warm_start': False, 'max_iter': 100} :\n",
      "TUNING DONE ! {'penalty': 'l2', 'multi_class': 'multinomial', 'C': 64.05, 'dual': False, 'fit_intercept': True, 'intercept_scaling': 1.0, 'class_weight': None, 'solver': 'newton-cg', 'warm_start': False, 'max_iter': 100} {'f1': 0.9137254901960784}\n",
      "0.5644230769230769\n",
      "Index(['aggregate_cyclomatic', 'aggregate_cyclomaticDensity',\n",
      "       'aggregate_halstead_bugs', 'aggregate_halstead_difficulty',\n",
      "       'aggregate_halstead_effort', 'aggregate_halstead_length',\n",
      "       'aggregate_halstead_operands_distinct',\n",
      "       'aggregate_halstead_operands_total',\n",
      "       'aggregate_halstead_operators_distinct',\n",
      "       'aggregate_halstead_operators_total',\n",
      "       ...\n",
      "       'W140', 'W141', 'W142', 'W143', 'W144', 'W145', 'W146', 'W147', 'W148',\n",
      "       'BUGS'],\n",
      "      dtype='object', length=251)\n"
     ]
    },
    {
     "name": "stdout",
     "output_type": "stream",
     "text": [
      "newbestscore {'f1': 0.9137254901960784}:\n",
      "bestconf {'penalty': 'l2', 'multi_class': 'auto', 'C': 107.431, 'dual': True, 'fit_intercept': True, 'intercept_scaling': 35.67, 'class_weight': 'balanced', 'solver': 'liblinear', 'warm_start': True, 'max_iter': 517} :\n",
      "TUNING DONE ! {'penalty': 'l2', 'multi_class': 'auto', 'C': 107.431, 'dual': True, 'fit_intercept': True, 'intercept_scaling': 35.67, 'class_weight': 'balanced', 'solver': 'liblinear', 'warm_start': True, 'max_iter': 517} {'f1': 0.9137254901960784}\n",
      "0.6170940170940169\n",
      "Index(['aggregate_cyclomatic', 'aggregate_cyclomaticDensity',\n",
      "       'aggregate_halstead_bugs', 'aggregate_halstead_difficulty',\n",
      "       'aggregate_halstead_effort', 'aggregate_halstead_length',\n",
      "       'aggregate_halstead_operands_distinct',\n",
      "       'aggregate_halstead_operands_total',\n",
      "       'aggregate_halstead_operators_distinct',\n",
      "       'aggregate_halstead_operators_total',\n",
      "       ...\n",
      "       'W140', 'W141', 'W142', 'W143', 'W144', 'W145', 'W146', 'W147', 'W148',\n",
      "       'BUGS'],\n",
      "      dtype='object', length=251)\n",
      "newbestscore {'f1': 0.9137254901960784}:\n",
      "bestconf {'penalty': 'l1', 'multi_class': 'ovr', 'C': 27.601, 'dual': False, 'fit_intercept': True, 'intercept_scaling': 21.009, 'class_weight': 'balanced', 'solver': 'liblinear', 'warm_start': True, 'max_iter': 100} :\n",
      "newbestscore {'f1': 1.0}:\n",
      "bestconf {'penalty': 'l1', 'multi_class': 'auto', 'C': 32.543, 'dual': False, 'fit_intercept': False, 'intercept_scaling': 1.0, 'class_weight': None, 'solver': 'saga', 'warm_start': True, 'max_iter': 528} :\n",
      "TUNING DONE ! {'penalty': 'l1', 'multi_class': 'auto', 'C': 32.543, 'dual': False, 'fit_intercept': False, 'intercept_scaling': 1.0, 'class_weight': None, 'solver': 'saga', 'warm_start': True, 'max_iter': 528} {'f1': 1.0}\n",
      "0.6170940170940169\n",
      "Index(['aggregate_cyclomatic', 'aggregate_cyclomaticDensity',\n",
      "       'aggregate_halstead_bugs', 'aggregate_halstead_difficulty',\n",
      "       'aggregate_halstead_effort', 'aggregate_halstead_length',\n",
      "       'aggregate_halstead_operands_distinct',\n",
      "       'aggregate_halstead_operands_total',\n",
      "       'aggregate_halstead_operators_distinct',\n",
      "       'aggregate_halstead_operators_total',\n",
      "       ...\n",
      "       'W140', 'W141', 'W142', 'W143', 'W144', 'W145', 'W146', 'W147', 'W148',\n",
      "       'BUGS'],\n",
      "      dtype='object', length=251)\n",
      "TUNING DONE ! {'penalty': 'l2', 'multi_class': 'ovr', 'C': 192.596, 'dual': False, 'fit_intercept': True, 'intercept_scaling': 53.061, 'class_weight': 'balanced', 'solver': 'newton-cg', 'warm_start': False, 'max_iter': 283} {'f1': 0.9137254901960784}\n",
      "0.5794871794871794\n"
     ]
    }
   ],
   "source": [
    "path = '/Users/suvodeepmajumder/Documents/AI4SE/bellwether_comminity/src/datasets/jshint.csv'\n",
    "df = prepare_data(path)\n",
    "df.reset_index(drop=True,inplace=True)\n",
    "y = df.BUGS\n",
    "X = df.drop(labels = ['BUGS'],axis = 1)\n",
    "train_X,test_X,train_y,test_y = train_test_split(X, y, test_size=0.33, random_state=13)\n",
    "df_test = pd.concat([test_X,test_y], axis = 1)\n",
    "df = pd.concat([train_X,train_y], axis = 1)\n",
    "df.reset_index(drop=True,inplace=True)\n",
    "y = df.BUGS\n",
    "X = df.drop(labels = ['BUGS'],axis = 1)\n",
    "kf = StratifiedKFold(n_splits = 10)\n",
    "goal = 'f1'\n",
    "learner = [SK_LR][0]\n",
    "F = {}\n",
    "score = []\n",
    "for i in range(1):\n",
    "    for train_index, tune_index in kf.split(X, y):\n",
    "        X_train, X_tune = X.iloc[train_index], X.iloc[tune_index]\n",
    "        y_train, y_tune = y[train_index], y[tune_index]\n",
    "        _df = pd.concat([X_train,y_train], axis = 1)\n",
    "        _df_tune = pd.concat([X_tune,y_tune], axis = 1)\n",
    "        _df = apply_smote(_df)\n",
    "        _df,selected_cols = apply_cfs(_df)\n",
    "        y_train = _df.BUGS\n",
    "        X_train = _df.drop(labels = ['BUGS'],axis = 1)\n",
    "        _df_tune = _df_tune[selected_cols]\n",
    "        y_tune = _df_tune.BUGS\n",
    "        X_tune = _df_tune.drop(labels = ['BUGS'],axis = 1)\n",
    "        _df_test = df_test[selected_cols]\n",
    "        test_y = _df_test.BUGS\n",
    "        test_X = _df_test.drop(labels = ['BUGS'],axis = 1)\n",
    "        params, evaluation = tune_learner(learner, X_train, y_train,  X_tune,y_tune, goal)\n",
    "        clf = learner(X_train, y_train,  test_X,test_y, goal)\n",
    "        F = clf.learn(F,**params)\n",
    "        print(F[goal][0])\n",
    "        score.append(F[goal][0])"
   ]
  },
  {
   "cell_type": "code",
   "execution_count": 17,
   "metadata": {},
   "outputs": [
    {
     "data": {
      "text/plain": [
       "0.6170940170940169"
      ]
     },
     "execution_count": 17,
     "metadata": {},
     "output_type": "execute_result"
    }
   ],
   "source": [
    "score = np.array(score)\n",
    "np.median(score)"
   ]
  },
  {
   "cell_type": "code",
   "execution_count": 18,
   "metadata": {},
   "outputs": [
    {
     "data": {
      "text/plain": [
       "{'whiskers': [<matplotlib.lines.Line2D at 0x1042fa4e0>,\n",
       "  <matplotlib.lines.Line2D at 0x1042fae80>],\n",
       " 'caps': [<matplotlib.lines.Line2D at 0x1042fa0f0>,\n",
       "  <matplotlib.lines.Line2D at 0x1042f0be0>],\n",
       " 'boxes': [<matplotlib.lines.Line2D at 0x1042fac88>],\n",
       " 'medians': [<matplotlib.lines.Line2D at 0x1042f06a0>],\n",
       " 'fliers': [<matplotlib.lines.Line2D at 0x1042f0c18>],\n",
       " 'means': []}"
      ]
     },
     "execution_count": 18,
     "metadata": {},
     "output_type": "execute_result"
    },
    {
     "data": {
      "image/png": "[encoded data removed]",
      "text/plain": [
       "<Figure size 432x288 with 1 Axes>"
      ]
     },
     "metadata": {
      "needs_background": "light"
     },
     "output_type": "display_data"
    }
   ],
   "source": [
    "plt.boxplot(score)"
   ]
  },
  {
   "cell_type": "code",
   "execution_count": 8,
   "metadata": {},
   "outputs": [],
   "source": [
    "project_score_df = pd.DataFrame(project_score, columns=['project','score'])"
   ]
  },
  {
   "cell_type": "code",
   "execution_count": 9,
   "metadata": {},
   "outputs": [],
   "source": [
    "project_score_df.to_csv('results.csv')"
   ]
  },
  {
   "cell_type": "code",
   "execution_count": 31,
   "metadata": {},
   "outputs": [
    {
     "name": "stdout",
     "output_type": "stream",
     "text": [
      "canal 0.77\n",
      "zsc 0.86\n",
      "motogp 1.0\n",
      "docker 0.82\n",
      "AndroidSwipeLayout 0.83\n",
      "FizzBuzzEnterpriseEdition 1.0\n",
      "recyclerview-animators 0.8\n",
      "Luban 1.0\n",
      "Fragmentation 0.76\n",
      "tetris_project 1.0\n",
      "10\n"
     ]
    }
   ],
   "source": [
    "cnt = 0\n",
    "for i in range(project_score_df.shape[0]):\n",
    "    if round(np.median(np.array(project_score_df.iloc[i,1])),2) >= .75:\n",
    "        print(project_score_df.iloc[i,0],round(np.median(np.array(project_score_df.iloc[i,1])),2))\n",
    "        cnt+=1\n",
    "print(cnt)\n",
    "    #print(project_score_df.iloc[i,0],round(np.median(np.array(project_score_df.iloc[i,1])),2))"
   ]
  },
  {
   "cell_type": "code",
   "execution_count": 9,
   "metadata": {},
   "outputs": [
    {
     "data": {
      "text/plain": [
       "array([0., 0., 0., 0., 0., 0., 0., 0., 0., 0.])"
      ]
     },
     "execution_count": 9,
     "metadata": {},
     "output_type": "execute_result"
    }
   ],
   "source": [
    "score"
   ]
  },
  {
   "cell_type": "code",
   "execution_count": 20,
   "metadata": {},
   "outputs": [],
   "source": [
    "df = pd.read_pickle('data/r2c_hyper.pkl')"
   ]
  },
  {
   "cell_type": "code",
   "execution_count": 21,
   "metadata": {},
   "outputs": [
    {
     "data": {
      "text/plain": [
       "{'/Users/suvodeepmajumder/Documents/AI4SE/bellwether_comminity/src/datasets/jshint.csv': [0.7692307692307693,\n",
       "  0.7301587301587301,\n",
       "  0.961038961038961,\n",
       "  0.961038961038961,\n",
       "  1.0,\n",
       "  0.8059701492537312,\n",
       "  0.961038961038961,\n",
       "  0.9473684210526316,\n",
       "  0.787878787878788,\n",
       "  0.8235294117647058]}"
      ]
     },
     "execution_count": 21,
     "metadata": {},
     "output_type": "execute_result"
    }
   ],
   "source": [
    "df"
   ]
  },
  {
   "cell_type": "code",
   "execution_count": null,
   "metadata": {},
   "outputs": [],
   "source": []
  }
 ],
 "metadata": {
  "kernelspec": {
   "display_name": "Python 3",
   "language": "python",
   "name": "python3"
  },
  "language_info": {
   "codemirror_mode": {
    "name": "ipython",
    "version": 3
   },
   "file_extension": ".py",
   "mimetype": "text/x-python",
   "name": "python",
   "nbconvert_exporter": "python",
   "pygments_lexer": "ipython3",
   "version": "3.7.3"
  }
 },
 "nbformat": 4,
 "nbformat_minor": 2
}
