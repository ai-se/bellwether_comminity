{
 "cells": [
  {
   "cell_type": "code",
   "execution_count": 24,
   "metadata": {},
   "outputs": [],
   "source": [
    "import pandas as pd\n",
    "import numpy as np\n",
    "import math\n",
    "import pickle\n",
    "import collections\n",
    "\n",
    "from sklearn.model_selection import train_test_split\n",
    "from sklearn.metrics import classification_report\n",
    "from sklearn.linear_model import LogisticRegression\n",
    "from sklearn import metrics\n",
    "from sklearn.naive_bayes import GaussianNB\n",
    "from sklearn.metrics import confusion_matrix\n",
    "from sklearn.model_selection import StratifiedKFold\n",
    "from sklearn.ensemble import RandomForestClassifier\n",
    "from sklearn.svm import SVC\n",
    "from sklearn.tree import DecisionTreeClassifier\n",
    "from sklearn.neural_network import MLPClassifier\n",
    "\n",
    "import platform\n",
    "from os import listdir\n",
    "from os.path import isfile, join\n",
    "from glob import glob\n",
    "from pathlib import Path\n",
    "import sys\n",
    "import os\n",
    "import copy\n",
    "import traceback\n",
    "from pathlib import Path\n",
    "import time\n",
    "\n",
    "\n",
    "import matplotlib.pyplot as plt\n",
    "\n",
    "import SMOTE\n",
    "import feature_selector\n",
    "import CFS\n",
    "import birch\n",
    "import metrics.abcd\n",
    "import birch_bellwether\n",
    "\n",
    "import metrices\n",
    "import measures\n",
    "\n",
    "import sys\n",
    "import traceback\n",
    "import warnings\n",
    "warnings.filterwarnings(\"ignore\")"
   ]
  },
  {
   "cell_type": "code",
   "execution_count": 11,
   "metadata": {},
   "outputs": [],
   "source": [
    "def prepare_data(path):\n",
    "    df = pd.read_csv(path)\n",
    "    df = df.drop(labels = ['Host','Vcs','Project','File','PL','IssueTracking'],axis=1)\n",
    "    df = df.dropna()\n",
    "    df = df[['TLOC', 'TNF', 'TNC', 'TND', 'LOC', 'CL', 'NStmt', 'NFunc',\n",
    "       'RCC', 'MNL', 'avg_WMC', 'max_WMC', 'total_WMC', 'avg_DIT', 'max_DIT',\n",
    "       'total_DIT', 'avg_RFC', 'max_RFC', 'total_RFC', 'avg_NOC', 'max_NOC',\n",
    "       'total_NOC', 'avg_CBO', 'max_CBO', 'total_CBO', 'avg_DIT.1',\n",
    "       'max_DIT.1', 'total_DIT.1', 'avg_NIV', 'max_NIV', 'total_NIV',\n",
    "       'avg_NIM', 'max_NIM', 'total_NIM', 'avg_NOM', 'max_NOM', 'total_NOM',\n",
    "       'avg_NPBM', 'max_NPBM', 'total_NPBM', 'avg_NPM', 'max_NPM', 'total_NPM',\n",
    "       'avg_NPRM', 'max_NPRM', 'total_NPRM', 'avg_CC', 'max_CC', 'total_CC',\n",
    "       'avg_FANIN', 'max_FANIN', 'total_FANIN', 'avg_FANOUT', 'max_FANOUT',\n",
    "       'total_FANOUT', 'NRev', 'NFix', 'avg_AddedLOC', 'max_AddedLOC',\n",
    "       'total_AddedLOC', 'avg_DeletedLOC', 'max_DeletedLOC',\n",
    "       'total_DeletedLOC', 'avg_ModifiedLOC', 'max_ModifiedLOC',\n",
    "       'total_ModifiedLOC','Buggy']]\n",
    "    return df"
   ]
  },
  {
   "cell_type": "code",
   "execution_count": 12,
   "metadata": {},
   "outputs": [
    {
     "name": "stdout",
     "output_type": "stream",
     "text": [
      "0\n"
     ]
    }
   ],
   "source": [
    "for i in range(1):\n",
    "    print(i)\n",
    "    path = '/Users/suvodeepmajumder/Documents/AI4SE/bellwether_comminity/data/1385/converted'\n",
    "    data_source = '/Users/suvodeepmajumder/Documents/AI4SE/bellwether_comminity/src/data/1385/h_bellwether_exp/level_2/fold_' + str(i)\n",
    "    if platform.system() == 'Darwin' or platform.system() == 'Linux':\n",
    "        _dir = path + '/'\n",
    "    else:\n",
    "        _dir = path + '\\\\'\n",
    "\n",
    "    projects = [f for f in listdir(_dir) if isfile(join(_dir, f))]\n",
    "    "
   ]
  },
  {
   "cell_type": "code",
   "execution_count": 18,
   "metadata": {},
   "outputs": [
    {
     "name": "stdout",
     "output_type": "stream",
     "text": [
      "--- 3.790855407714844e-05 seconds ---\n",
      "This solver needs samples of at least 2 classes in the data, but the data contains only one class: 'clean'\n",
      "This solver needs samples of at least 2 classes in the data, but the data contains only one class: 'clean'\n",
      "This solver needs samples of at least 2 classes in the data, but the data contains only one class: 'clean'\n",
      "\"['Host' 'Vcs' 'File' 'PL' 'IssueTracking'] not found in axis\"\n",
      "This solver needs samples of at least 2 classes in the data, but the data contains only one class: 'buggy'\n",
      "This solver needs samples of at least 2 classes in the data, but the data contains only one class: 'buggy'\n",
      "This solver needs samples of at least 2 classes in the data, but the data contains only one class: 'clean'\n",
      "\"['Host' 'Vcs' 'File' 'PL' 'IssueTracking'] not found in axis\"\n",
      "This solver needs samples of at least 2 classes in the data, but the data contains only one class: 'buggy'\n",
      "This solver needs samples of at least 2 classes in the data, but the data contains only one class: 'buggy'\n",
      "This solver needs samples of at least 2 classes in the data, but the data contains only one class: 'clean'\n",
      "This solver needs samples of at least 2 classes in the data, but the data contains only one class: 'buggy'\n",
      "This solver needs samples of at least 2 classes in the data, but the data contains only one class: 'buggy'\n",
      "This solver needs samples of at least 2 classes in the data, but the data contains only one class: 'buggy'\n",
      "This solver needs samples of at least 2 classes in the data, but the data contains only one class: 'buggy'\n",
      "This solver needs samples of at least 2 classes in the data, but the data contains only one class: 'buggy'\n",
      "This solver needs samples of at least 2 classes in the data, but the data contains only one class: 'clean'\n",
      "This solver needs samples of at least 2 classes in the data, but the data contains only one class: 'buggy'\n",
      "This solver needs samples of at least 2 classes in the data, but the data contains only one class: 'buggy'\n",
      "This solver needs samples of at least 2 classes in the data, but the data contains only one class: 'buggy'\n",
      "This solver needs samples of at least 2 classes in the data, but the data contains only one class: 'buggy'\n",
      "This solver needs samples of at least 2 classes in the data, but the data contains only one class: 'buggy'\n",
      "\"['Host' 'Vcs' 'File' 'PL' 'IssueTracking'] not found in axis\"\n",
      "This solver needs samples of at least 2 classes in the data, but the data contains only one class: 'buggy'\n",
      "This solver needs samples of at least 2 classes in the data, but the data contains only one class: 'buggy'\n",
      "\"['Host' 'Vcs' 'File' 'PL' 'IssueTracking'] not found in axis\"\n",
      "This solver needs samples of at least 2 classes in the data, but the data contains only one class: 'clean'\n",
      "This solver needs samples of at least 2 classes in the data, but the data contains only one class: 'clean'\n",
      "This solver needs samples of at least 2 classes in the data, but the data contains only one class: 'buggy'\n",
      "This solver needs samples of at least 2 classes in the data, but the data contains only one class: 'buggy'\n",
      "This solver needs samples of at least 2 classes in the data, but the data contains only one class: 'buggy'\n",
      "This solver needs samples of at least 2 classes in the data, but the data contains only one class: 'buggy'\n",
      "This solver needs samples of at least 2 classes in the data, but the data contains only one class: 'buggy'\n",
      "This solver needs samples of at least 2 classes in the data, but the data contains only one class: 'buggy'\n",
      "This solver needs samples of at least 2 classes in the data, but the data contains only one class: 'clean'\n",
      "This solver needs samples of at least 2 classes in the data, but the data contains only one class: 'buggy'\n",
      "This solver needs samples of at least 2 classes in the data, but the data contains only one class: 'clean'\n",
      "This solver needs samples of at least 2 classes in the data, but the data contains only one class: 'clean'\n",
      "This solver needs samples of at least 2 classes in the data, but the data contains only one class: 'buggy'\n",
      "This solver needs samples of at least 2 classes in the data, but the data contains only one class: 'clean'\n",
      "\"['Host' 'Vcs' 'File' 'PL' 'IssueTracking'] not found in axis\"\n",
      "This solver needs samples of at least 2 classes in the data, but the data contains only one class: 'clean'\n",
      "This solver needs samples of at least 2 classes in the data, but the data contains only one class: 'clean'\n",
      "This solver needs samples of at least 2 classes in the data, but the data contains only one class: 'clean'\n",
      "This solver needs samples of at least 2 classes in the data, but the data contains only one class: 'clean'\n",
      "This solver needs samples of at least 2 classes in the data, but the data contains only one class: 'buggy'\n",
      "--- 31.1061429977417 seconds ---\n"
     ]
    }
   ],
   "source": [
    "start_time = time.time()\n",
    "print(\"--- %s seconds ---\" % (time.time() - start_time))\n",
    "for project in projects:\n",
    "    try:\n",
    "        df = prepare_data(_dir + project)\n",
    "        y = df.Buggy\n",
    "        X = df.drop(labels = ['Buggy'],axis = 1)\n",
    "        clf_bellwether = LogisticRegression()\n",
    "        clf_bellwether.fit(X,y)\n",
    "    except Exception as e:\n",
    "        print(e)\n",
    "        continue\n",
    "end_time = time.time()\n",
    "print(\"--- %s seconds ---\" % (end_time - start_time))"
   ]
  },
  {
   "cell_type": "code",
   "execution_count": 19,
   "metadata": {},
   "outputs": [
    {
     "name": "stdout",
     "output_type": "stream",
     "text": [
      "--- 3.814697265625e-05 seconds ---\n",
      "\"['Host' 'Vcs' 'File' 'PL' 'IssueTracking'] not found in axis\"\n",
      "\"['Host' 'Vcs' 'File' 'PL' 'IssueTracking'] not found in axis\"\n",
      "\"['Host' 'Vcs' 'File' 'PL' 'IssueTracking'] not found in axis\"\n",
      "\"['Host' 'Vcs' 'File' 'PL' 'IssueTracking'] not found in axis\"\n",
      "\"['Host' 'Vcs' 'File' 'PL' 'IssueTracking'] not found in axis\"\n",
      "--- 103.78350734710693 seconds ---\n"
     ]
    }
   ],
   "source": [
    "start_time = time.time()\n",
    "print(\"--- %s seconds ---\" % (time.time() - start_time))\n",
    "for project in projects:\n",
    "    try:\n",
    "        df = prepare_data(_dir + project)\n",
    "        y = df.Buggy\n",
    "        X = df.drop(labels = ['Buggy'],axis = 1)\n",
    "        clf_bellwether = RandomForestClassifier()\n",
    "        clf_bellwether.fit(X,y)\n",
    "    except Exception as e:\n",
    "        print(e)\n",
    "end_time = time.time()\n",
    "print(\"--- %s seconds ---\" % (end_time - start_time))"
   ]
  },
  {
   "cell_type": "code",
   "execution_count": 20,
   "metadata": {},
   "outputs": [
    {
     "name": "stdout",
     "output_type": "stream",
     "text": [
      "--- 5.507469177246094e-05 seconds ---\n",
      "The number of classes has to be greater than one; got 1 class\n",
      "The number of classes has to be greater than one; got 1 class\n",
      "The number of classes has to be greater than one; got 1 class\n",
      "\"['Host' 'Vcs' 'File' 'PL' 'IssueTracking'] not found in axis\"\n",
      "The number of classes has to be greater than one; got 1 class\n",
      "The number of classes has to be greater than one; got 1 class\n",
      "The number of classes has to be greater than one; got 1 class\n",
      "\"['Host' 'Vcs' 'File' 'PL' 'IssueTracking'] not found in axis\"\n",
      "The number of classes has to be greater than one; got 1 class\n",
      "The number of classes has to be greater than one; got 1 class\n",
      "The number of classes has to be greater than one; got 1 class\n",
      "The number of classes has to be greater than one; got 1 class\n",
      "The number of classes has to be greater than one; got 1 class\n",
      "The number of classes has to be greater than one; got 1 class\n",
      "The number of classes has to be greater than one; got 1 class\n",
      "The number of classes has to be greater than one; got 1 class\n",
      "The number of classes has to be greater than one; got 1 class\n",
      "The number of classes has to be greater than one; got 1 class\n",
      "The number of classes has to be greater than one; got 1 class\n",
      "The number of classes has to be greater than one; got 1 class\n",
      "The number of classes has to be greater than one; got 1 class\n",
      "The number of classes has to be greater than one; got 1 class\n",
      "\"['Host' 'Vcs' 'File' 'PL' 'IssueTracking'] not found in axis\"\n",
      "The number of classes has to be greater than one; got 1 class\n",
      "The number of classes has to be greater than one; got 1 class\n",
      "\"['Host' 'Vcs' 'File' 'PL' 'IssueTracking'] not found in axis\"\n",
      "The number of classes has to be greater than one; got 1 class\n",
      "The number of classes has to be greater than one; got 1 class\n",
      "The number of classes has to be greater than one; got 1 class\n",
      "The number of classes has to be greater than one; got 1 class\n",
      "The number of classes has to be greater than one; got 1 class\n",
      "The number of classes has to be greater than one; got 1 class\n",
      "The number of classes has to be greater than one; got 1 class\n",
      "The number of classes has to be greater than one; got 1 class\n",
      "The number of classes has to be greater than one; got 1 class\n",
      "The number of classes has to be greater than one; got 1 class\n",
      "The number of classes has to be greater than one; got 1 class\n",
      "The number of classes has to be greater than one; got 1 class\n",
      "The number of classes has to be greater than one; got 1 class\n",
      "The number of classes has to be greater than one; got 1 class\n",
      "\"['Host' 'Vcs' 'File' 'PL' 'IssueTracking'] not found in axis\"\n",
      "The number of classes has to be greater than one; got 1 class\n",
      "The number of classes has to be greater than one; got 1 class\n",
      "The number of classes has to be greater than one; got 1 class\n",
      "The number of classes has to be greater than one; got 1 class\n",
      "The number of classes has to be greater than one; got 1 class\n",
      "--- 17.967930793762207 seconds ---\n"
     ]
    }
   ],
   "source": [
    "start_time = time.time()\n",
    "print(\"--- %s seconds ---\" % (time.time() - start_time))\n",
    "for project in projects:\n",
    "    try:\n",
    "        df = prepare_data(_dir + project)\n",
    "        y = df.Buggy\n",
    "        X = df.drop(labels = ['Buggy'],axis = 1)\n",
    "        clf_bellwether = SVC()\n",
    "        clf_bellwether.fit(X,y)\n",
    "    except Exception as e:\n",
    "        print(e)\n",
    "end_time = time.time()\n",
    "print(\"--- %s seconds ---\" % (end_time - start_time))"
   ]
  },
  {
   "cell_type": "code",
   "execution_count": 22,
   "metadata": {},
   "outputs": [
    {
     "name": "stdout",
     "output_type": "stream",
     "text": [
      "--- 3.790855407714844e-05 seconds ---\n",
      "\"['Host' 'Vcs' 'File' 'PL' 'IssueTracking'] not found in axis\"\n",
      "\"['Host' 'Vcs' 'File' 'PL' 'IssueTracking'] not found in axis\"\n",
      "\"['Host' 'Vcs' 'File' 'PL' 'IssueTracking'] not found in axis\"\n",
      "\"['Host' 'Vcs' 'File' 'PL' 'IssueTracking'] not found in axis\"\n",
      "\"['Host' 'Vcs' 'File' 'PL' 'IssueTracking'] not found in axis\"\n",
      "--- 16.518914699554443 seconds ---\n"
     ]
    }
   ],
   "source": [
    "start_time = time.time()\n",
    "print(\"--- %s seconds ---\" % (time.time() - start_time))\n",
    "for project in projects:\n",
    "    try:\n",
    "        df = prepare_data(_dir + project)\n",
    "        y = df.Buggy\n",
    "        X = df.drop(labels = ['Buggy'],axis = 1)\n",
    "        clf_bellwether = DecisionTreeClassifier()\n",
    "        clf_bellwether.fit(X,y)\n",
    "    except Exception as e:\n",
    "        print(e)\n",
    "end_time = time.time()\n",
    "print(\"--- %s seconds ---\" % (end_time - start_time))"
   ]
  },
  {
   "cell_type": "code",
   "execution_count": 23,
   "metadata": {},
   "outputs": [
    {
     "name": "stdout",
     "output_type": "stream",
     "text": [
      "--- 3.886222839355469e-05 seconds ---\n",
      "\"['Host' 'Vcs' 'File' 'PL' 'IssueTracking'] not found in axis\"\n",
      "\"['Host' 'Vcs' 'File' 'PL' 'IssueTracking'] not found in axis\"\n",
      "\"['Host' 'Vcs' 'File' 'PL' 'IssueTracking'] not found in axis\"\n",
      "\"['Host' 'Vcs' 'File' 'PL' 'IssueTracking'] not found in axis\"\n",
      "\"['Host' 'Vcs' 'File' 'PL' 'IssueTracking'] not found in axis\"\n",
      "--- 14.17167592048645 seconds ---\n"
     ]
    }
   ],
   "source": [
    "start_time = time.time()\n",
    "print(\"--- %s seconds ---\" % (time.time() - start_time))\n",
    "for project in projects:\n",
    "    try:\n",
    "        df = prepare_data(_dir + project)\n",
    "        y = df.Buggy\n",
    "        X = df.drop(labels = ['Buggy'],axis = 1)\n",
    "        clf_bellwether = GaussianNB()\n",
    "        clf_bellwether.fit(X,y)\n",
    "    except Exception as e:\n",
    "        print(e)\n",
    "end_time = time.time()\n",
    "print(\"--- %s seconds ---\" % (end_time - start_time))"
   ]
  },
  {
   "cell_type": "code",
   "execution_count": 25,
   "metadata": {},
   "outputs": [
    {
     "name": "stdout",
     "output_type": "stream",
     "text": [
      "--- 3.981590270996094e-05 seconds ---\n",
      "\"['Host' 'Vcs' 'File' 'PL' 'IssueTracking'] not found in axis\"\n",
      "\"['Host' 'Vcs' 'File' 'PL' 'IssueTracking'] not found in axis\"\n",
      "\"['Host' 'Vcs' 'File' 'PL' 'IssueTracking'] not found in axis\"\n",
      "\"['Host' 'Vcs' 'File' 'PL' 'IssueTracking'] not found in axis\"\n",
      "\"['Host' 'Vcs' 'File' 'PL' 'IssueTracking'] not found in axis\"\n",
      "--- 54.920674085617065 seconds ---\n"
     ]
    }
   ],
   "source": [
    "start_time = time.time()\n",
    "print(\"--- %s seconds ---\" % (time.time() - start_time))\n",
    "for project in projects:\n",
    "    try:\n",
    "        df = prepare_data(_dir + project)\n",
    "        y = df.Buggy\n",
    "        X = df.drop(labels = ['Buggy'],axis = 1)\n",
    "        clf_bellwether = MLPClassifier()\n",
    "        clf_bellwether.fit(X,y)\n",
    "    except Exception as e:\n",
    "        print(e)\n",
    "end_time = time.time()\n",
    "print(\"--- %s seconds ---\" % (end_time - start_time))"
   ]
  },
  {
   "cell_type": "code",
   "execution_count": null,
   "metadata": {},
   "outputs": [],
   "source": []
  }
 ],
 "metadata": {
  "kernelspec": {
   "display_name": "Python 3",
   "language": "python",
   "name": "python3"
  },
  "language_info": {
   "codemirror_mode": {
    "name": "ipython",
    "version": 3
   },
   "file_extension": ".py",
   "mimetype": "text/x-python",
   "name": "python",
   "nbconvert_exporter": "python",
   "pygments_lexer": "ipython3",
   "version": "3.7.3"
  }
 },
 "nbformat": 4,
 "nbformat_minor": 2
}
