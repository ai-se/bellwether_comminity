{
 "cells": [
  {
   "cell_type": "code",
   "execution_count": 1,
   "metadata": {},
   "outputs": [],
   "source": [
    "import pandas as pd\n",
    "import numpy as np\n",
    "import math\n",
    "import pickle\n",
    "\n",
    "from sklearn.model_selection import train_test_split\n",
    "from sklearn.metrics import classification_report\n",
    "from sklearn.linear_model import LogisticRegression\n",
    "from sklearn.svm import LinearSVC\n",
    "from sklearn.svm import SVC\n",
    "from sklearn import metrics\n",
    "from sklearn.naive_bayes import GaussianNB\n",
    "from sklearn.metrics import confusion_matrix\n",
    "from sklearn.model_selection import StratifiedKFold\n",
    "\n",
    "import platform\n",
    "from os import listdir\n",
    "from os.path import isfile, join\n",
    "from glob import glob\n",
    "from pathlib import Path\n",
    "import sys\n",
    "import os\n",
    "import copy\n",
    "import traceback\n",
    "import sys\n",
    "import traceback\n",
    "import warnings\n",
    "import timeit\n",
    "\n",
    "\n",
    "\n",
    "import matplotlib.pyplot as plt\n",
    "\n",
    "import SMOTE\n",
    "import feature_selector\n",
    "import DE\n",
    "import CFS\n",
    "import metrics.abcd\n",
    "import FFT\n",
    "import metrices\n",
    "import measures\n",
    "\n",
    "warnings.filterwarnings(\"ignore\")"
   ]
  },
  {
   "cell_type": "code",
   "execution_count": 2,
   "metadata": {},
   "outputs": [],
   "source": [
    "def get_projects(data_source):\n",
    "    #'/Users/suvodeepmajumder/Documents/AI4SE/bellwether_comminity/data/1385/converted'\n",
    "    if platform.system() == 'Darwin' or platform.system() == 'Linux':\n",
    "        _dir = data_source + '/'\n",
    "    else:\n",
    "        _dir = data_source + '\\\\'\n",
    "    projects = [f for f in listdir(_dir) if isfile(join(_dir, f))]\n",
    "    return projects\n",
    "\n",
    "def prepare_data(path):\n",
    "    df = pd.read_csv(path)\n",
    "    df = df.drop(labels = ['Host','Vcs','Project','File','PL','IssueTracking'],axis=1)\n",
    "    df = df.dropna()\n",
    "    df = df[['TLOC', 'TNF', 'TNC', 'TND', 'LOC', 'CL', 'NStmt', 'NFunc',\n",
    "       'RCC', 'MNL', 'avg_WMC', 'max_WMC', 'total_WMC', 'avg_DIT', 'max_DIT',\n",
    "       'total_DIT', 'avg_RFC', 'max_RFC', 'total_RFC', 'avg_NOC', 'max_NOC',\n",
    "       'total_NOC', 'avg_CBO', 'max_CBO', 'total_CBO', 'avg_DIT.1',\n",
    "       'max_DIT.1', 'total_DIT.1', 'avg_NIV', 'max_NIV', 'total_NIV',\n",
    "       'avg_NIM', 'max_NIM', 'total_NIM', 'avg_NOM', 'max_NOM', 'total_NOM',\n",
    "       'avg_NPBM', 'max_NPBM', 'total_NPBM', 'avg_NPM', 'max_NPM', 'total_NPM',\n",
    "       'avg_NPRM', 'max_NPRM', 'total_NPRM', 'avg_CC', 'max_CC', 'total_CC',\n",
    "       'avg_FANIN', 'max_FANIN', 'total_FANIN', 'avg_FANOUT', 'max_FANOUT',\n",
    "       'total_FANOUT', 'NRev', 'NFix', 'avg_AddedLOC', 'max_AddedLOC',\n",
    "       'total_AddedLOC', 'avg_DeletedLOC', 'max_DeletedLOC',\n",
    "       'total_DeletedLOC', 'avg_ModifiedLOC', 'max_ModifiedLOC',\n",
    "       'total_ModifiedLOC','Buggy']]\n",
    "    return df\n",
    "\n",
    "def get_features(df):\n",
    "    fs = feature_selector.featureSelector()\n",
    "    df,_feature_nums,features = fs.cfs_bfs(df)\n",
    "    return df,features\n",
    "\n",
    "def apply_cfs(df):\n",
    "    y = df.Buggy.values\n",
    "    X = df.drop(labels = ['Buggy'],axis = 1)\n",
    "    X = X.values\n",
    "    selected_cols = CFS.cfs(X,y)\n",
    "    cols = df.columns[[selected_cols]].tolist()\n",
    "    cols.append('Buggy')\n",
    "    return df[cols],cols\n",
    "    \n",
    "def apply_smote(df):\n",
    "    cols = df.columns\n",
    "    smt = SMOTE.smote(df)\n",
    "    df = smt.run()\n",
    "    df.columns = cols\n",
    "    return df\n",
    "\n",
    "def tune_learner(learner, train_X, train_Y, tune_X, tune_Y, goal,loc=None,target_class=None):\n",
    "    if not target_class:\n",
    "        target_class = goal\n",
    "    clf = learner(train_X, train_Y, tune_X, tune_Y, goal,loc)\n",
    "    tuner = DE.DE_Tune_ML(clf, clf.get_param(), goal, target_class)\n",
    "    return tuner.Tune()"
   ]
  },
  {
   "cell_type": "code",
   "execution_count": 3,
   "metadata": {},
   "outputs": [],
   "source": [
    "selected_projects = get_projects('/Users/suvodeepmajumder/Documents/AI4SE/bellwether_comminity/data/1385/converted')"
   ]
  },
  {
   "cell_type": "code",
   "execution_count": 4,
   "metadata": {},
   "outputs": [
    {
     "name": "stdout",
     "output_type": "stream",
     "text": [
      "\t----- PERFORMANCES FOR ALL FFTs on Training Data -----\n",
      "\tCLF \tPRE  \tREC \tSPE \tFPR \tNPV \tACC \tF_1 \tPrecision\n",
      "\tFFT(0)\t0.462\t1.000\t0.000\t1.000\t00000\t0.462\t0.632\t-0.462\n",
      "\tFFT(1)\t0.462\t1.000\t0.000\t1.000\t00000\t0.462\t0.632\t-0.462\n",
      "\tFFT(2)\t0.462\t1.000\t0.000\t1.000\t00000\t0.462\t0.632\t-0.462\n",
      "\tFFT(3)\t0.462\t1.000\t0.000\t1.000\t00000\t0.462\t0.632\t-0.462\n",
      "\tFFT(4)\t0.462\t1.000\t0.000\t1.000\t00000\t0.462\t0.632\t-0.462\n",
      "\tFFT(5)\t0.462\t1.000\t0.000\t1.000\t00000\t0.462\t0.632\t-0.462\n",
      "\tFFT(6)\t0.462\t1.000\t0.000\t1.000\t00000\t0.462\t0.632\t-0.462\n",
      "\tFFT(7)\t0.462\t1.000\t0.000\t1.000\t00000\t0.462\t0.632\t-0.462\n",
      "\tFFT(8)\t0.462\t1.000\t0.000\t1.000\t00000\t0.462\t0.632\t-0.462\n",
      "\tFFT(9)\t0.462\t1.000\t0.000\t1.000\t00000\t0.462\t0.632\t-0.462\n",
      "\tFFT(10)\t0.462\t1.000\t0.000\t1.000\t00000\t0.462\t0.632\t-0.462\n",
      "\tFFT(11)\t0.462\t1.000\t0.000\t1.000\t00000\t0.462\t0.632\t-0.462\n",
      "\tFFT(12)\t0.462\t1.000\t0.000\t1.000\t00000\t0.462\t0.632\t-0.462\n",
      "\tFFT(13)\t0.462\t1.000\t0.000\t1.000\t00000\t0.462\t0.632\t-0.462\n",
      "\tFFT(14)\t0.462\t1.000\t0.000\t1.000\t00000\t0.462\t0.632\t-0.462\n",
      "\tFFT(15)\t00000\t00000\t00000\t10000\t00000\t00000\t00000\t00000\n",
      "\tThe best tree found on training data is: FFT(0)\n",
      "For Now\n",
      "For Now\n",
      "For Now\n",
      "For Now\n",
      "For Now\n",
      "\t----- CONFUSION MATRIX -----\n",
      "\tTP\tFP\tTN\tFN\n",
      "\t2\t5\t373\t37\n",
      "\t----- PERFORMANCES ON TEST DATA -----\n",
      "\tCLF \tPRE  \tREC \tSPE \tFPR \tNPV \tACC \tF_1 \tDist2Heaven\n",
      "Performance: [2, 5, 373, 37, 0.286, 0.051, 0.987, 0.013, 0.91, 0.899, 0.087]\n",
      "\tFFT(0)\t0.286\t0.051\t0.987\t0.013\t0.910\t0.899\t0.087\t0.901\n",
      "Model training time:  36.911201840000004\n"
     ]
    }
   ],
   "source": [
    "for project in selected_projects:\n",
    "    start = timeit.default_timer()\n",
    "    if project != 'vdsf.csv':\n",
    "        continue\n",
    "    path = '/Users/suvodeepmajumder/Documents/AI4SE/bellwether_comminity/data/1385/converted/' + project\n",
    "    df = prepare_data(path)\n",
    "    if df.shape[0] < 50:\n",
    "        continue\n",
    "    df.reset_index(drop=True,inplace=True)\n",
    "    d = {'buggy': True, 'clean': False}\n",
    "    df['Buggy'] = df['Buggy'].map(d)\n",
    "    y = df.Buggy\n",
    "    X = df.drop(labels = ['Buggy'],axis = 1)\n",
    "    train_X,test_X,train_y,test_y = train_test_split(X, y, test_size=0.33)\n",
    "    train_df = pd.concat([train_X,train_y], axis = 1)\n",
    "    test_df = pd.concat([test_X,test_y], axis = 1)\n",
    "    fft = FFT.FFT('Precision','Buggy',5)\n",
    "    fft.train, fft.test = train_df, test_df\n",
    "    fft.build_trees()\n",
    "    fft.eval_trees()\n",
    "    results = fft.find_best_tree()\n",
    "    best_structure = fft.structures[fft.best]\n",
    "    stop = timeit.default_timer()\n",
    "    print(\"Model training time: \", stop - start)\n",
    "    "
   ]
  },
  {
   "cell_type": "code",
   "execution_count": 5,
   "metadata": {},
   "outputs": [
    {
     "data": {
      "text/plain": [
       "[0.286, 0.051, 0.987, 0.013, 0.91, 0.899, 0.087]"
      ]
     },
     "execution_count": 5,
     "metadata": {},
     "output_type": "execute_result"
    }
   ],
   "source": [
    "results"
   ]
  },
  {
   "cell_type": "code",
   "execution_count": null,
   "metadata": {},
   "outputs": [],
   "source": []
  }
 ],
 "metadata": {
  "kernelspec": {
   "display_name": "Python 3",
   "language": "python",
   "name": "python3"
  },
  "language_info": {
   "codemirror_mode": {
    "name": "ipython",
    "version": 3
   },
   "file_extension": ".py",
   "mimetype": "text/x-python",
   "name": "python",
   "nbconvert_exporter": "python",
   "pygments_lexer": "ipython3",
   "version": "3.7.3"
  }
 },
 "nbformat": 4,
 "nbformat_minor": 2
}
