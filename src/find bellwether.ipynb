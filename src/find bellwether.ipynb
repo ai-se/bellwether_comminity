{
 "cells": [
  {
   "cell_type": "code",
   "execution_count": 1,
   "metadata": {},
   "outputs": [],
   "source": [
    "import pandas as pd\n",
    "import numpy as np\n",
    "import math\n",
    "import pickle\n",
    "import collections\n",
    "\n",
    "from sklearn.model_selection import train_test_split\n",
    "from sklearn.metrics import classification_report\n",
    "from sklearn.linear_model import LogisticRegression\n",
    "from sklearn import metrics\n",
    "from sklearn.naive_bayes import GaussianNB\n",
    "from sklearn.metrics import confusion_matrix\n",
    "from sklearn.model_selection import StratifiedKFold\n",
    "\n",
    "import platform\n",
    "from os import listdir\n",
    "from os.path import isfile, join\n",
    "from glob import glob\n",
    "from pathlib import Path\n",
    "import sys\n",
    "import os\n",
    "import copy\n",
    "import traceback\n",
    "from pathlib import Path\n",
    "\n",
    "\n",
    "import matplotlib.pyplot as plt\n",
    "\n",
    "import SMOTE\n",
    "import feature_selector\n",
    "import DE\n",
    "import CFS\n",
    "import birch\n",
    "import metrics.abcd\n",
    "\n",
    "import metrices\n",
    "import measures\n",
    "\n",
    "import sys\n",
    "import traceback\n",
    "import warnings\n",
    "warnings.filterwarnings(\"ignore\")"
   ]
  },
  {
   "cell_type": "code",
   "execution_count": 2,
   "metadata": {},
   "outputs": [],
   "source": []
  },
  {
   "cell_type": "code",
   "execution_count": 8,
   "metadata": {},
   "outputs": [],
   "source": [
    "def cluster_driver(df,print_tree = False):\n",
    "    X = df.apply(pd.to_numeric)\n",
    "    cluster = birch.birch(branching_factor=20)\n",
    "        #X.set_index('Project Name',inplace=True)\n",
    "    cluster.fit(X)\n",
    "    cluster_tree,max_depth = cluster.get_cluster_tree()\n",
    "        #cluster_tree = cluster.model_adder(cluster_tree)\n",
    "    if print_tree:\n",
    "        cluster.show_clutser_tree()\n",
    "    return cluster,cluster_tree,max_depth\n",
    "\n",
    "def build_BIRCH(attr_df):\n",
    "    cluster,cluster_tree,_ = cluster_driver(attr_df)\n",
    "    return cluster,cluster_tree"
   ]
  },
  {
   "cell_type": "code",
   "execution_count": 9,
   "metadata": {},
   "outputs": [],
   "source": []
  },
  {
   "cell_type": "code",
   "execution_count": 36,
   "metadata": {},
   "outputs": [],
   "source": []
  },
  {
   "cell_type": "code",
   "execution_count": 60,
   "metadata": {},
   "outputs": [],
   "source": [
    "#get cluster wise data for summarzation using median\n",
    "def find_bellwether(data_source1,clusters):\n",
    "    df_train = pd.read_pickle(data_source1 + '/train_data.pkl')\n",
    "    cluster,cluster_tree = build_BIRCH(df_train)\n",
    "    cluster_ids = []\n",
    "    cluster_structure = {}\n",
    "    size = {}\n",
    "    for key in cluster_tree:\n",
    "        if cluster_tree[key].depth == 2:\n",
    "            cluster_ids.append(key)\n",
    "            cluster_structure[key] = cluster_tree[key].parent_id\n",
    "            size[key] = cluster_tree[key].size\n",
    "    goals = ['f1','g','recall','precision','pf']\n",
    "    for goal in goals:\n",
    "        count = 0\n",
    "        count_not = 0\n",
    "        count_yes = 0\n",
    "        precentage = 0\n",
    "        score = []\n",
    "        score_med = []\n",
    "        cluster_info = {}\n",
    "        for cluster in clusters:\n",
    "            df = pd.read_csv(cluster + '/1385_LR_bellwether_' + goal + '.csv')\n",
    "            counts = []\n",
    "            med_count = []\n",
    "            for row in range(df.shape[0]):\n",
    "                j = df.iloc[row].values[1:]\n",
    "                j_med = np.median(j)\n",
    "                if goal != 'pf':\n",
    "                    value = sum(i >= 0.66 for i in j)\n",
    "                else:\n",
    "                    value = sum(i <= 0.33 for i in j)\n",
    "                med_count.append(j_med)\n",
    "                counts.append(value)\n",
    "            df['>=0.6'] = counts\n",
    "            precentage = max(counts)/df.shape[0]\n",
    "            x = int(cluster.rsplit('/',1)[1])\n",
    "            #score.append([int(cluster.rsplit('/',1)[1]),round(df.shape[0]*0.33),max(counts),round(np.mean(counts),2),df.iloc[counts.index(max(counts)),0]])\n",
    "            if goal == 'pf':\n",
    "                score_med.append([int(cluster.rsplit('/',1)[1]),round(df.shape[0]*0.62),counts[med_count.index(min(med_count))],round(np.mean(counts),2),max(med_count),df.iloc[med_count.index(min(med_count)),0],size[int(cluster.rsplit('/',1)[1])]])     \n",
    "            elif goal == 'g':\n",
    "                score_med.append([int(cluster.rsplit('/',1)[1]),round(df.shape[0]*0.16),counts[med_count.index(max(med_count))],round(np.mean(counts),2),max(med_count),df.iloc[med_count.index(max(med_count)),0],size[int(cluster.rsplit('/',1)[1])]])\n",
    "            else:\n",
    "                score_med.append([int(cluster.rsplit('/',1)[1]),round(df.shape[0]*0.33),counts[med_count.index(max(med_count))],round(np.mean(counts),2),max(med_count),df.iloc[med_count.index(max(med_count)),0],size[int(cluster.rsplit('/',1)[1])]])\n",
    "            count += max(counts)\n",
    "        score_df = pd.DataFrame(score_med, columns = ['id','expected','max_bell','avge','median','bellwether','size'])\n",
    "        score_df = score_df.sort_values('id')\n",
    "        score_df.to_csv(data_source1 + '/bellwether_' + goal + '.csv')"
   ]
  },
  {
   "cell_type": "code",
   "execution_count": 51,
   "metadata": {},
   "outputs": [],
   "source": [
    "self_df = pd.read_csv('/Users/suvodeepmajumder/Documents/AI4SE/bellwether_comminity/src/data/1385/projects/self_test.csv')\n",
    "self_df = self_df[self_df['project'].isin(list(df_train.index))]\n",
    "self_df.to_csv('/Users/suvodeepmajumder/Documents/AI4SE/bellwether_comminity/src/data/1385/projects/self_test_modeified.csv')\n",
    "\n"
   ]
  },
  {
   "cell_type": "code",
   "execution_count": 61,
   "metadata": {},
   "outputs": [],
   "source": [
    "for i in range(10):\n",
    "    data_source1 = '/Users/suvodeepmajumder/Documents/AI4SE/bellwether_comminity/src/data/1385/exp2/2/fold_' + str(i)\n",
    "    if platform.system() == 'Darwin' or platform.system() == 'Linux':\n",
    "        _dir = data_source1 + '/'\n",
    "    else:\n",
    "        _dir = data_source1 + '\\\\'\n",
    "\n",
    "    clusters = [(join(_dir, f)) for f in listdir(_dir) if Path(join(_dir, f)).is_dir()]\n",
    "    find_bellwether(data_source1,clusters)"
   ]
  },
  {
   "cell_type": "code",
   "execution_count": null,
   "metadata": {},
   "outputs": [],
   "source": []
  },
  {
   "cell_type": "code",
   "execution_count": null,
   "metadata": {},
   "outputs": [],
   "source": []
  }
 ],
 "metadata": {
  "kernelspec": {
   "display_name": "Python 3",
   "language": "python",
   "name": "python3"
  },
  "language_info": {
   "codemirror_mode": {
    "name": "ipython",
    "version": 3
   },
   "file_extension": ".py",
   "mimetype": "text/x-python",
   "name": "python",
   "nbconvert_exporter": "python",
   "pygments_lexer": "ipython3",
   "version": "3.7.3"
  }
 },
 "nbformat": 4,
 "nbformat_minor": 2
}
