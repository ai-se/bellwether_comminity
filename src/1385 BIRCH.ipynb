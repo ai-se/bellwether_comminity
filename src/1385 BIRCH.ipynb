{
 "cells": [
  {
   "cell_type": "code",
   "execution_count": 31,
   "metadata": {},
   "outputs": [],
   "source": [
    "import pandas as pd\n",
    "import birch\n",
    "import CFS"
   ]
  },
  {
   "cell_type": "code",
   "execution_count": 10,
   "metadata": {},
   "outputs": [],
   "source": [
    "def load_data(path,target):\n",
    "    df = pd.read_csv(path)\n",
    "    if path == 'data/jm1.csv':\n",
    "        df = df[~df.uniq_Op.str.contains(\"\\?\")]\n",
    "    y = df[target]\n",
    "    X = df.drop(labels = target, axis = 1)\n",
    "    X = X.apply(pd.to_numeric)\n",
    "    return X,y\n",
    "\n",
    "# Cluster Driver\n",
    "def cluster_driver(df,print_tree = True):\n",
    "    #df = pd.read_csv(file)\n",
    "    X = df.apply(pd.to_numeric)\n",
    "    cluster = birch.birch(branching_factor=10)\n",
    "    #X.set_index('Project Name',inplace=True)\n",
    "    cluster.fit(X)\n",
    "    cluster_tree,max_depth = cluster.get_cluster_tree()\n",
    "    #cluster_tree = cluster.model_adder(cluster_tree)\n",
    "    if print_tree:\n",
    "        cluster.show_clutser_tree()\n",
    "    return cluster,cluster_tree,max_depth"
   ]
  },
  {
   "cell_type": "code",
   "execution_count": 11,
   "metadata": {},
   "outputs": [],
   "source": [
    "attr_dict = pd.read_pickle('data/1385/projects/selected_attr.pkl')\n",
    "attr_df = pd.DataFrame.from_dict(attr_dict,orient='index')"
   ]
  },
  {
   "cell_type": "code",
   "execution_count": 12,
   "metadata": {
    "scrolled": false
   },
   "outputs": [
    {
     "name": "stdout",
     "output_type": "stream",
     "text": [
      "[cluster_id=0] N_children: 4 N_samples: 697\n",
      "> [cluster_id=1] N_children: 3 N_samples: 4\n",
      "> > [cluster_id=2] N_children: 0 N_samples: 2\n",
      "> > [cluster_id=3] N_children: 0 N_samples: 1\n",
      "> > [cluster_id=4] N_children: 0 N_samples: 1\n",
      "> [cluster_id=5] N_children: 2 N_samples: 2\n",
      "> > [cluster_id=6] N_children: 0 N_samples: 1\n",
      "> > [cluster_id=7] N_children: 0 N_samples: 1\n",
      "> [cluster_id=8] N_children: 0 N_samples: 1\n",
      "> [cluster_id=9] N_children: 10 N_samples: 690\n",
      "> > [cluster_id=10] N_children: 2 N_samples: 15\n",
      "> > > [cluster_id=11] N_children: 0 N_samples: 1\n",
      "> > > [cluster_id=12] N_children: 3 N_samples: 14\n",
      "> > > > [cluster_id=13] N_children: 0 N_samples: 6\n",
      "> > > > [cluster_id=14] N_children: 0 N_samples: 2\n",
      "> > > > [cluster_id=15] N_children: 0 N_samples: 6\n",
      "> > [cluster_id=16] N_children: 2 N_samples: 3\n",
      "> > > [cluster_id=17] N_children: 0 N_samples: 1\n",
      "> > > [cluster_id=18] N_children: 0 N_samples: 2\n",
      "> > [cluster_id=19] N_children: 0 N_samples: 1\n",
      "> > [cluster_id=20] N_children: 0 N_samples: 3\n",
      "> > [cluster_id=21] N_children: 0 N_samples: 1\n",
      "> > [cluster_id=22] N_children: 4 N_samples: 137\n",
      "> > > [cluster_id=23] N_children: 2 N_samples: 15\n",
      "> > > > [cluster_id=24] N_children: 0 N_samples: 9\n",
      "> > > > [cluster_id=25] N_children: 0 N_samples: 6\n",
      "> > > [cluster_id=26] N_children: 6 N_samples: 44\n",
      "> > > > [cluster_id=27] N_children: 0 N_samples: 4\n",
      "> > > > [cluster_id=28] N_children: 0 N_samples: 10\n",
      "> > > > [cluster_id=29] N_children: 0 N_samples: 10\n",
      "> > > > [cluster_id=30] N_children: 0 N_samples: 7\n",
      "> > > > [cluster_id=31] N_children: 0 N_samples: 8\n",
      "> > > > [cluster_id=32] N_children: 0 N_samples: 5\n",
      "> > > [cluster_id=33] N_children: 4 N_samples: 24\n",
      "> > > > [cluster_id=34] N_children: 0 N_samples: 4\n",
      "> > > > [cluster_id=35] N_children: 0 N_samples: 7\n",
      "> > > > [cluster_id=36] N_children: 0 N_samples: 7\n",
      "> > > > [cluster_id=37] N_children: 0 N_samples: 6\n",
      "> > > [cluster_id=38] N_children: 7 N_samples: 54\n",
      "> > > > [cluster_id=39] N_children: 0 N_samples: 4\n",
      "> > > > [cluster_id=40] N_children: 0 N_samples: 8\n",
      "> > > > [cluster_id=41] N_children: 0 N_samples: 9\n",
      "> > > > [cluster_id=42] N_children: 0 N_samples: 8\n",
      "> > > > [cluster_id=43] N_children: 0 N_samples: 10\n",
      "> > > > [cluster_id=44] N_children: 0 N_samples: 10\n",
      "> > > > [cluster_id=45] N_children: 0 N_samples: 5\n",
      "> > [cluster_id=46] N_children: 10 N_samples: 232\n",
      "> > > [cluster_id=47] N_children: 4 N_samples: 19\n",
      "> > > > [cluster_id=48] N_children: 0 N_samples: 5\n",
      "> > > > [cluster_id=49] N_children: 0 N_samples: 2\n",
      "> > > > [cluster_id=50] N_children: 0 N_samples: 5\n",
      "> > > > [cluster_id=51] N_children: 0 N_samples: 7\n",
      "> > > [cluster_id=52] N_children: 4 N_samples: 16\n",
      "> > > > [cluster_id=53] N_children: 0 N_samples: 2\n",
      "> > > > [cluster_id=54] N_children: 0 N_samples: 2\n",
      "> > > > [cluster_id=55] N_children: 0 N_samples: 2\n",
      "> > > > [cluster_id=56] N_children: 0 N_samples: 10\n",
      "> > > [cluster_id=57] N_children: 2 N_samples: 12\n",
      "> > > > [cluster_id=58] N_children: 0 N_samples: 4\n",
      "> > > > [cluster_id=59] N_children: 0 N_samples: 8\n",
      "> > > [cluster_id=60] N_children: 2 N_samples: 19\n",
      "> > > > [cluster_id=61] N_children: 0 N_samples: 10\n",
      "> > > > [cluster_id=62] N_children: 0 N_samples: 9\n",
      "> > > [cluster_id=63] N_children: 3 N_samples: 15\n",
      "> > > > [cluster_id=64] N_children: 0 N_samples: 4\n",
      "> > > > [cluster_id=65] N_children: 0 N_samples: 3\n",
      "> > > > [cluster_id=66] N_children: 0 N_samples: 8\n",
      "> > > [cluster_id=67] N_children: 5 N_samples: 21\n",
      "> > > > [cluster_id=68] N_children: 0 N_samples: 2\n",
      "> > > > [cluster_id=69] N_children: 0 N_samples: 10\n",
      "> > > > [cluster_id=70] N_children: 0 N_samples: 4\n",
      "> > > > [cluster_id=71] N_children: 0 N_samples: 3\n",
      "> > > > [cluster_id=72] N_children: 0 N_samples: 2\n",
      "> > > [cluster_id=73] N_children: 0 N_samples: 1\n",
      "> > > [cluster_id=74] N_children: 3 N_samples: 15\n",
      "> > > > [cluster_id=75] N_children: 0 N_samples: 3\n",
      "> > > > [cluster_id=76] N_children: 0 N_samples: 6\n",
      "> > > > [cluster_id=77] N_children: 0 N_samples: 6\n",
      "> > > [cluster_id=78] N_children: 9 N_samples: 47\n",
      "> > > > [cluster_id=79] N_children: 0 N_samples: 3\n",
      "> > > > [cluster_id=80] N_children: 0 N_samples: 7\n",
      "> > > > [cluster_id=81] N_children: 0 N_samples: 9\n",
      "> > > > [cluster_id=82] N_children: 0 N_samples: 2\n",
      "> > > > [cluster_id=83] N_children: 0 N_samples: 3\n",
      "> > > > [cluster_id=84] N_children: 0 N_samples: 4\n",
      "> > > > [cluster_id=85] N_children: 0 N_samples: 9\n",
      "> > > > [cluster_id=86] N_children: 0 N_samples: 2\n",
      "> > > > [cluster_id=87] N_children: 0 N_samples: 8\n",
      "> > > [cluster_id=88] N_children: 10 N_samples: 67\n",
      "> > > > [cluster_id=89] N_children: 0 N_samples: 4\n",
      "> > > > [cluster_id=90] N_children: 0 N_samples: 6\n",
      "> > > > [cluster_id=91] N_children: 0 N_samples: 5\n",
      "> > > > [cluster_id=92] N_children: 0 N_samples: 3\n",
      "> > > > [cluster_id=93] N_children: 0 N_samples: 10\n",
      "> > > > [cluster_id=94] N_children: 0 N_samples: 6\n",
      "> > > > [cluster_id=95] N_children: 0 N_samples: 8\n",
      "> > > > [cluster_id=96] N_children: 0 N_samples: 9\n",
      "> > > > [cluster_id=97] N_children: 0 N_samples: 10\n",
      "> > > > [cluster_id=98] N_children: 0 N_samples: 6\n",
      "> > [cluster_id=99] N_children: 8 N_samples: 211\n",
      "> > > [cluster_id=100] N_children: 3 N_samples: 19\n",
      "> > > > [cluster_id=101] N_children: 0 N_samples: 5\n",
      "> > > > [cluster_id=102] N_children: 0 N_samples: 5\n",
      "> > > > [cluster_id=103] N_children: 0 N_samples: 9\n",
      "> > > [cluster_id=104] N_children: 4 N_samples: 17\n",
      "> > > > [cluster_id=105] N_children: 0 N_samples: 2\n",
      "> > > > [cluster_id=106] N_children: 0 N_samples: 3\n",
      "> > > > [cluster_id=107] N_children: 0 N_samples: 9\n",
      "> > > > [cluster_id=108] N_children: 0 N_samples: 3\n",
      "> > > [cluster_id=109] N_children: 3 N_samples: 13\n",
      "> > > > [cluster_id=110] N_children: 0 N_samples: 2\n",
      "> > > > [cluster_id=111] N_children: 0 N_samples: 10\n",
      "> > > > [cluster_id=112] N_children: 0 N_samples: 1\n",
      "> > > [cluster_id=113] N_children: 5 N_samples: 34\n",
      "> > > > [cluster_id=114] N_children: 0 N_samples: 4\n",
      "> > > > [cluster_id=115] N_children: 0 N_samples: 7\n",
      "> > > > [cluster_id=116] N_children: 0 N_samples: 6\n",
      "> > > > [cluster_id=117] N_children: 0 N_samples: 10\n",
      "> > > > [cluster_id=118] N_children: 0 N_samples: 7\n",
      "> > > [cluster_id=119] N_children: 3 N_samples: 19\n",
      "> > > > [cluster_id=120] N_children: 0 N_samples: 10\n",
      "> > > > [cluster_id=121] N_children: 0 N_samples: 3\n",
      "> > > > [cluster_id=122] N_children: 0 N_samples: 6\n",
      "> > > [cluster_id=123] N_children: 8 N_samples: 56\n",
      "> > > > [cluster_id=124] N_children: 0 N_samples: 8\n",
      "> > > > [cluster_id=125] N_children: 0 N_samples: 6\n",
      "> > > > [cluster_id=126] N_children: 0 N_samples: 8\n",
      "> > > > [cluster_id=127] N_children: 0 N_samples: 10\n",
      "> > > > [cluster_id=128] N_children: 0 N_samples: 9\n",
      "> > > > [cluster_id=129] N_children: 0 N_samples: 9\n",
      "> > > > [cluster_id=130] N_children: 0 N_samples: 3\n",
      "> > > > [cluster_id=131] N_children: 0 N_samples: 3\n",
      "> > > [cluster_id=132] N_children: 5 N_samples: 25\n",
      "> > > > [cluster_id=133] N_children: 0 N_samples: 2\n",
      "> > > > [cluster_id=134] N_children: 0 N_samples: 3\n",
      "> > > > [cluster_id=135] N_children: 0 N_samples: 9\n",
      "> > > > [cluster_id=136] N_children: 0 N_samples: 3\n",
      "> > > > [cluster_id=137] N_children: 0 N_samples: 8\n",
      "> > > [cluster_id=138] N_children: 6 N_samples: 28\n",
      "> > > > [cluster_id=139] N_children: 0 N_samples: 3\n",
      "> > > > [cluster_id=140] N_children: 0 N_samples: 6\n",
      "> > > > [cluster_id=141] N_children: 0 N_samples: 6\n",
      "> > > > [cluster_id=142] N_children: 0 N_samples: 4\n",
      "> > > > [cluster_id=143] N_children: 0 N_samples: 4\n",
      "> > > > [cluster_id=144] N_children: 0 N_samples: 5\n",
      "> > [cluster_id=145] N_children: 0 N_samples: 2\n",
      "> > [cluster_id=146] N_children: 3 N_samples: 85\n",
      "> > > [cluster_id=147] N_children: 4 N_samples: 23\n",
      "> > > > [cluster_id=148] N_children: 0 N_samples: 4\n",
      "> > > > [cluster_id=149] N_children: 0 N_samples: 3\n",
      "> > > > [cluster_id=150] N_children: 0 N_samples: 8\n",
      "> > > > [cluster_id=151] N_children: 0 N_samples: 8\n",
      "> > > [cluster_id=152] N_children: 2 N_samples: 10\n",
      "> > > > [cluster_id=153] N_children: 0 N_samples: 8\n",
      "> > > > [cluster_id=154] N_children: 0 N_samples: 2\n",
      "> > > [cluster_id=155] N_children: 8 N_samples: 52\n",
      "> > > > [cluster_id=156] N_children: 0 N_samples: 5\n",
      "> > > > [cluster_id=157] N_children: 0 N_samples: 5\n",
      "> > > > [cluster_id=158] N_children: 0 N_samples: 8\n",
      "> > > > [cluster_id=159] N_children: 0 N_samples: 7\n",
      "> > > > [cluster_id=160] N_children: 0 N_samples: 10\n",
      "> > > > [cluster_id=161] N_children: 0 N_samples: 6\n",
      "> > > > [cluster_id=162] N_children: 0 N_samples: 5\n",
      "> > > > [cluster_id=163] N_children: 0 N_samples: 6\n"
     ]
    }
   ],
   "source": [
    "cluster,cluster_tree,max_depth = cluster_driver(attr_df)"
   ]
  },
  {
   "cell_type": "code",
   "execution_count": 14,
   "metadata": {},
   "outputs": [
    {
     "data": {
      "text/plain": [
       "[8, 21, 39]"
      ]
     },
     "execution_count": 14,
     "metadata": {},
     "output_type": "execute_result"
    }
   ],
   "source": [
    "cluster_tree[26].data_points"
   ]
  },
  {
   "cell_type": "code",
   "execution_count": 18,
   "metadata": {},
   "outputs": [
    {
     "data": {
      "text/plain": [
       "Index(['x-ray-mule.csv', 'algebsql.csv', 'delphilhlplib.csv', 'piccolo2d.csv',\n",
       "       'mpqc.csv', 'robocode.csv', 'scenemonitor.csv', 'jgnash.csv',\n",
       "       'lcfizvtop.csv', 'bwapi.csv', 'somap.csv', 'jstock.csv', 'kolmafia.csv',\n",
       "       'geochat.csv', 'ldview.csv', 'pustefix.csv', 'cuberok.csv', 'toped.csv',\n",
       "       'irrlicht.csv', 'codepurge.csv', 'qmmp.csv', 'mesa3d.csv',\n",
       "       'tencompetence.csv', 'fulguro.csv', 'octave.csv', 'arsenal-1.csv',\n",
       "       'zildo.csv', 'libopenmetaverse.csv', 'mvdsv.csv', 'ivataopenportal.csv',\n",
       "       'arm-webradio.csv', 'chipster.csv', 'apertium.csv', 'owlapi.csv',\n",
       "       'mp-rechnungs-und-kundenverwaltung.csv', 'galaxium.csv', 'lite.csv',\n",
       "       'fityk.csv', 'ta3d.csv', 'opennms.csv', 'phet.csv', 'tolven.csv',\n",
       "       'sumatrapdf.csv', 'google-web-toolkit.csv'],\n",
       "      dtype='object')"
      ]
     },
     "execution_count": 18,
     "metadata": {},
     "output_type": "execute_result"
    }
   ],
   "source": [
    "attr_df.iloc[cluster_tree[26].data_points].index"
   ]
  }
 ],
 "metadata": {
  "kernelspec": {
   "display_name": "Python 3",
   "language": "python",
   "name": "python3"
  },
  "language_info": {
   "codemirror_mode": {
    "name": "ipython",
    "version": 3
   },
   "file_extension": ".py",
   "mimetype": "text/x-python",
   "name": "python",
   "nbconvert_exporter": "python",
   "pygments_lexer": "ipython3",
   "version": "3.7.3"
  }
 },
 "nbformat": 4,
 "nbformat_minor": 2
}
